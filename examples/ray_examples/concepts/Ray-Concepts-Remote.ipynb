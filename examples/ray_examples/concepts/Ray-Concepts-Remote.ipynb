{
 "cells": [
  {
   "cell_type": "code",
   "execution_count": null,
   "id": "558a0216",
   "metadata": {},
   "outputs": [],
   "source": [
    "import ray\n",
    "import time"
   ]
  },
  {
   "cell_type": "code",
   "execution_count": null,
   "id": "c27f1e41",
   "metadata": {},
   "outputs": [],
   "source": [
    "# Connect to the ray cluster\n",
    "CLUSTER_NAME = \"gpu-cluster\"\n",
    "NAMESPACE = \"ray\"\n",
    "PORT=10001\n",
    "# The dns name is based off of the service name which is [cluster]-ray-head & namespace\n",
    "dns_name = f\"{CLUSTER_NAME}-ray-head.{NAMESPACE}.svc\"\n",
    "ray.util.connect(f\"{dns_name}:{PORT}\")"
   ]
  },
  {
   "cell_type": "code",
   "execution_count": null,
   "id": "56119de1",
   "metadata": {},
   "outputs": [],
   "source": [
    "#tag::placement_group_imports[]\n",
    "from ray.util.placement_group import (\n",
    "    placement_group,\n",
    "    placement_group_table,\n",
    "    remove_placement_group\n",
    ")\n",
    "#end::placement_group_imports[]"
   ]
  },
  {
   "cell_type": "code",
   "execution_count": null,
   "id": "bc58394c",
   "metadata": {},
   "outputs": [],
   "source": [
    "#tag::mixed_placement_group[]\n",
    "# Create a placement group.\n",
    "cpu_bundle = {\"CPU\": 1}\n",
    "gpu_bundle = {\"GPU\": 1}\n",
    "pg = placement_group([cpu_bundle, gpu_bundle])\n",
    "ray.get(pg.ready())\n",
    "print(placement_group_table(pg))\n",
    "print(ray.available_resources())\n",
    "#end::mixed_placement_group[]"
   ]
  },
  {
   "cell_type": "code",
   "execution_count": null,
   "id": "22924089",
   "metadata": {},
   "outputs": [],
   "source": [
    "@ray.remote\n",
    "def remote_fun(x):\n",
    "    return x"
   ]
  },
  {
   "cell_type": "code",
   "execution_count": null,
   "id": "b024eb17",
   "metadata": {},
   "outputs": [],
   "source": [
    "ray.get(pg.ready())\n",
    "print(placement_group_table(pg))\n",
    "print(ray.available_resources())\n",
    "\n",
    "handle = remote_fun.options(placement_group=pg).remote(1)\n",
    "print(ray.available_resources())\n",
    "print(ray.get(handle))\n",
    "\n",
    "# Delete placement group. This API is asynchronous.\n",
    "remove_placement_group(pg)\n",
    "# Wait until placement group is killed.\n",
    "time.sleep(1)\n",
    "# Check the placement group has died.\n",
    "print(placement_group_table(pg))\n",
    "print(ray.available_resources())\n"
   ]
  },
  {
   "cell_type": "code",
   "execution_count": null,
   "id": "9273d907",
   "metadata": {},
   "outputs": [],
   "source": []
  }
 ],
 "metadata": {
  "kernelspec": {
   "display_name": "Python 3 (ipykernel)",
   "language": "python",
   "name": "python3"
  },
  "language_info": {
   "codemirror_mode": {
    "name": "ipython",
    "version": 3
   },
   "file_extension": ".py",
   "mimetype": "text/x-python",
   "name": "python",
   "nbconvert_exporter": "python",
   "pygments_lexer": "ipython3",
   "version": "3.7.10"
  }
 },
 "nbformat": 4,
 "nbformat_minor": 5
}
