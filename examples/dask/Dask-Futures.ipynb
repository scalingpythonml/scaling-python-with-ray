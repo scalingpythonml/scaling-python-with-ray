{
 "cells": [
  {
   "cell_type": "code",
   "execution_count": 1,
   "id": "345f6297-4459-48bf-b414-4389b303f49c",
   "metadata": {},
   "outputs": [],
   "source": [
    "import dask\n",
    "from dask_kubernetes import KubeCluster\n",
    "import numpy as np\n",
    "import time\n",
    "import timeit"
   ]
  },
  {
   "cell_type": "code",
   "execution_count": 45,
   "id": "4d03bf82-8c22-4a81-b54d-705286ac00b1",
   "metadata": {},
   "outputs": [
    {
     "name": "stderr",
     "output_type": "stream",
     "text": [
      "/home/holden/.local/lib/python3.8/site-packages/distributed/node.py:177: UserWarning: Port 8787 is already in use.\n",
      "Perhaps you already have a cluster running?\n",
      "Hosting the HTTP server on port 37031 instead\n",
      "  warnings.warn(\n"
     ]
    }
   ],
   "source": [
    "#tag::launching_futures[]\n",
    "from dask.distributed import Client\n",
    "client = Client()\n",
    "\n",
    "def slow(x):\n",
    "    time.sleep(3*x)\n",
    "    return 3*x\n",
    "\n",
    "slow_future = client.submit(slow, 1)\n",
    "slow_futures = client.map(slow, range(1, 5))\n",
    "#end::launching_futures[]"
   ]
  },
  {
   "cell_type": "code",
   "execution_count": 46,
   "id": "6078e6ab-f9e3-418d-bb45-2c1f365b8078",
   "metadata": {},
   "outputs": [
    {
     "name": "stdout",
     "output_type": "stream",
     "text": [
      "So as you can see by the future time 0.7250279140002931 v.s. 3.0164205900000525 the future starts running right away.\n"
     ]
    }
   ],
   "source": [
    "#tag::delayed_vs_future_future_faster[]\n",
    "slow_future = client.submit(slow, 1)\n",
    "slow_delayed = dask.delayed(slow)(1)\n",
    "# Pretend we do some other work here\n",
    "time.sleep(1)\n",
    "future_time = timeit.timeit(lambda: slow_future.result(), number=1)\n",
    "delayed_time = timeit.timeit(lambda: dask.compute(slow_delayed), number=1)\n",
    "print(f\"So as you can see by the future time {future_time} v.s. {delayed_time} the future starts running right away.\")\n",
    "#end::delayed_vs_future_future_faster[]"
   ]
  },
  {
   "cell_type": "code",
   "execution_count": 47,
   "id": "20cc7bf0-4863-4c1d-a8b9-9632b4caab0d",
   "metadata": {},
   "outputs": [],
   "source": [
    "#tag::understanding_futures_lifecycle[]\n",
    "myfuture = client.submit(slow, 5) # Starts running\n",
    "myfuture = None # future may be GCd and then stop since there are no other references\n",
    "\n",
    "myfuture = client.submit(slow, 5) # Starts running\n",
    "del myfuture # future may be GCd and then stop since there are no other references\n",
    "\n",
    "myfuture = client.submit(slow, 5) # Starts running\n",
    "myfuture.cancel() # Future stops running, any other references point to cancelled future\n",
    "#end::understanding_futures_lifecycle[]"
   ]
  },
  {
   "cell_type": "code",
   "execution_count": 48,
   "id": "bdb3b972-7399-46d5-bad9-30aaab40b5a6",
   "metadata": {},
   "outputs": [
    {
     "data": {
      "text/html": [
       "<strong>Future: slow</strong>\n",
       "<span style=\"color: var(--jp-ui-font-color2, gray)\"> status: </span>\n",
       "\n",
       "\n",
       "<span style=\"color: var(--jp-error-color0, black)\">cancelled</span>,\n",
       "\n",
       "\n",
       "\n",
       "<span style=\"color: var(--jp-ui-font-color2, gray)\"> type:</span> NoneType,\n",
       "\n",
       "\n",
       "<span style=\"color: var(--jp-ui-font-color2, gray)\"> key:</span> slow-7b28c2cb84e7a340c8ab9a533addfa38"
      ],
      "text/plain": [
       "<Future: cancelled, key: slow-7b28c2cb84e7a340c8ab9a533addfa38>"
      ]
     },
     "execution_count": 48,
     "metadata": {},
     "output_type": "execute_result"
    }
   ],
   "source": [
    "myfuture"
   ]
  },
  {
   "cell_type": "code",
   "execution_count": 49,
   "id": "915de217-b159-46f9-992f-d8430ee2272d",
   "metadata": {},
   "outputs": [],
   "source": [
    "del myfuture"
   ]
  },
  {
   "cell_type": "code",
   "execution_count": 50,
   "id": "ec03d441-56ee-4667-876d-10270f3f0981",
   "metadata": {},
   "outputs": [],
   "source": [
    "myfuture = client.submit(slow, 5) # Starts running\n"
   ]
  },
  {
   "cell_type": "code",
   "execution_count": 51,
   "id": "c12520ee-b741-479b-9a95-735f18504069",
   "metadata": {},
   "outputs": [],
   "source": [
    "myfuture2 = myfuture"
   ]
  },
  {
   "cell_type": "code",
   "execution_count": 52,
   "id": "fcaa4dff-4ffe-4a28-a75e-81c71e62331e",
   "metadata": {},
   "outputs": [],
   "source": [
    "del myfuture"
   ]
  },
  {
   "cell_type": "code",
   "execution_count": 53,
   "id": "28af7aba-1a73-4472-96da-4b28e4ecc9aa",
   "metadata": {},
   "outputs": [
    {
     "data": {
      "text/html": [
       "<strong>Future: slow</strong>\n",
       "<span style=\"color: var(--jp-ui-font-color2, gray)\"> status: </span>\n",
       "\n",
       "\n",
       "<span style=\"color: var(--jp-error-color0, black)\">pending</span>,\n",
       "\n",
       "\n",
       "\n",
       "<span style=\"color: var(--jp-ui-font-color2, gray)\"> type:</span> NoneType,\n",
       "\n",
       "\n",
       "<span style=\"color: var(--jp-ui-font-color2, gray)\"> key:</span> slow-7b28c2cb84e7a340c8ab9a533addfa38"
      ],
      "text/plain": [
       "<Future: pending, key: slow-7b28c2cb84e7a340c8ab9a533addfa38>"
      ]
     },
     "execution_count": 53,
     "metadata": {},
     "output_type": "execute_result"
    }
   ],
   "source": [
    "myfuture2"
   ]
  },
  {
   "cell_type": "code",
   "execution_count": 54,
   "id": "d4c08cc0-f6a7-4adc-ab9d-ae26d17526ca",
   "metadata": {},
   "outputs": [
    {
     "data": {
      "text/plain": [
       "True"
      ]
     },
     "execution_count": 54,
     "metadata": {},
     "output_type": "execute_result"
    }
   ],
   "source": [
    "#tag::fire_and_forget[]\n",
    "from dask.distributed import fire_and_forget\n",
    "\n",
    "def process_something(x):\n",
    "    \"\"\"\n",
    "    Process x but don't wait for any response.\n",
    "    \"\"\"\n",
    "    myfuture = client.submit(slow, x)\n",
    "    fire_and_forget(myfuture)\n",
    "    # If we didn't use fire and forget the future would be cancelled on return\n",
    "    return True\n",
    "\n",
    "process_something(10)\n",
    "#end::fire_and_forget[]"
   ]
  },
  {
   "cell_type": "code",
   "execution_count": null,
   "id": "476fd005-e29b-4ff6-9015-e12192fa8f88",
   "metadata": {},
   "outputs": [],
   "source": [
    "#tag::fire_and_forget2[]\n",
    "from dask.distributed import fire_and_forget\n",
    "\n",
    "def do_some_io(data):\n",
    "    \"\"\"\n",
    "    Do some io we don't need to block on :)\n",
    "    \"\"\"\n",
    "    import requests\n",
    "    return requests.get('https://httpbin.org/get', params=data)\n",
    "    \n",
    "def business_logic():\n",
    "    # Make a future, but we don't really care about it's result, just that it happens\n",
    "    future = client.submit(do_some_io, {\"timbit\": \"awesome\"})\n",
    "    fire_and_forget(future)\n",
    "    \n",
    "business_logic()\n",
    "#end::fire_and_forget2[]"
   ]
  },
  {
   "cell_type": "code",
   "execution_count": 105,
   "id": "a065c84c-4e4b-40e0-9eb1-c854c01897de",
   "metadata": {},
   "outputs": [
    {
     "data": {
      "text/plain": [
       "<Response [200]>"
      ]
     },
     "execution_count": 105,
     "metadata": {},
     "output_type": "execute_result"
    }
   ],
   "source": [
    "#tag::get_result[]\n",
    "future = client.submit(do_some_io, {\"timbit\": \"awesome\"})\n",
    "future.result()\n",
    "#end::get_result[]"
   ]
  },
  {
   "cell_type": "code",
   "execution_count": 55,
   "id": "d82be71f-097a-4430-9189-852f089558d2",
   "metadata": {},
   "outputs": [],
   "source": [
    "things = list(range(10))\n",
    "things.sort(reverse=True)\n",
    "futures = client.map(slow, things)"
   ]
  },
  {
   "cell_type": "code",
   "execution_count": 56,
   "id": "6ab70220-b70b-45f6-9743-9c7d6b6c1e11",
   "metadata": {},
   "outputs": [
    {
     "name": "stdout",
     "output_type": "stream",
     "text": [
      "27\n",
      "24\n",
      "21\n",
      "18\n",
      "15\n",
      "12\n",
      "9\n",
      "6\n",
      "3\n",
      "0\n"
     ]
    }
   ],
   "source": [
    "#tag::get_seq[]\n",
    "for f in futures:\n",
    "    time.sleep(2) # Business numbers logic\n",
    "    print(f.result())\n",
    "#end::get_seq[]"
   ]
  },
  {
   "cell_type": "code",
   "execution_count": 57,
   "id": "9f20a596-cc44-4f89-9b62-dc80c0b592bf",
   "metadata": {},
   "outputs": [],
   "source": [
    "futures = client.map(slow, things)"
   ]
  },
  {
   "cell_type": "code",
   "execution_count": 58,
   "id": "f328a07b-4441-4d3e-91ff-9b175385c259",
   "metadata": {},
   "outputs": [
    {
     "name": "stdout",
     "output_type": "stream",
     "text": [
      "27\n",
      "24\n",
      "21\n",
      "18\n",
      "15\n",
      "12\n",
      "9\n",
      "6\n",
      "3\n",
      "0\n"
     ]
    }
   ],
   "source": [
    "#tag::as_completed[]\n",
    "from dask.distributed import as_completed\n",
    "\n",
    "for f in as_completed(futures):\n",
    "    time.sleep(2) # Business numbers logic\n",
    "    print(f.result())\n",
    "#end::as_completed[]"
   ]
  },
  {
   "cell_type": "code",
   "execution_count": 59,
   "id": "961f3d3e-a942-4882-82c8-6e76e74345a8",
   "metadata": {},
   "outputs": [
    {
     "data": {
      "text/plain": [
       "[<Future: finished, type: int, key: slow-edacd76a7a72512a9bb7d7e7c277e40b>,\n",
       " <Future: finished, type: int, key: slow-538bc5562a2425d60866c1e088850cc7>,\n",
       " <Future: finished, type: int, key: slow-061d4a879385b309e37e2f73984cce5f>,\n",
       " <Future: finished, type: int, key: slow-b75c1899352e1867128ae1c3096ad1ab>,\n",
       " <Future: finished, type: int, key: slow-7b28c2cb84e7a340c8ab9a533addfa38>,\n",
       " <Future: finished, type: int, key: slow-037b86217f62dda4c0568d0e05c0e532>,\n",
       " <Future: finished, type: int, key: slow-8384adce3f43eb4de6605141d1dc04a4>,\n",
       " <Future: finished, type: int, key: slow-2d7d168f55b1973305a74498aefec31b>,\n",
       " <Future: finished, type: int, key: slow-aa3270411570d9e76ae2c42e383b3810>,\n",
       " <Future: finished, type: int, key: slow-e8c458d56a8807459e761aee9e1cb409>]"
      ]
     },
     "execution_count": 59,
     "metadata": {},
     "output_type": "execute_result"
    }
   ],
   "source": [
    "futures"
   ]
  },
  {
   "cell_type": "code",
   "execution_count": 60,
   "id": "bed5cd97-3cf7-481d-83e8-bce9c59b2393",
   "metadata": {},
   "outputs": [
    {
     "data": {
      "text/plain": [
       "9"
      ]
     },
     "execution_count": 60,
     "metadata": {},
     "output_type": "execute_result"
    }
   ],
   "source": [
    "#tag::nested[]\n",
    "from dask.distributed import get_client\n",
    "\n",
    "def nested(x):\n",
    "    client = get_client() # The client is serializable so we use get_client\n",
    "    futures = client.map(slow, range(0, x))\n",
    "    r = 0\n",
    "    for f in as_completed(futures):\n",
    "        r = r + f.result()\n",
    "    return r\n",
    "\n",
    "f = client.submit(nested, 3)\n",
    "f.result()\n",
    "#end::nested[]"
   ]
  },
  {
   "cell_type": "code",
   "execution_count": 94,
   "id": "2ba71383-5452-4748-af26-db537199e7ea",
   "metadata": {},
   "outputs": [],
   "source": [
    "futures = client.map(slow, range(0, 30))"
   ]
  },
  {
   "cell_type": "code",
   "execution_count": 95,
   "id": "aaf2d517-4d1b-444a-8cc7-066b5774c14b",
   "metadata": {},
   "outputs": [
    {
     "name": "stdout",
     "output_type": "stream",
     "text": [
      "72\n",
      "63\n",
      "57\n",
      "39\n",
      "42\n",
      "6\n",
      "69\n",
      "0\n",
      "18\n",
      "75\n",
      "21\n",
      "9\n",
      "12\n",
      "33\n",
      "54\n",
      "51\n",
      "66\n",
      "24\n",
      "27\n",
      "3\n",
      "45\n",
      "60\n",
      "15\n",
      "30\n",
      "48\n",
      "36\n"
     ]
    }
   ],
   "source": [
    "#tag::time_limit_first[]\n",
    "from dask.distributed import wait\n",
    "from dask.distributed.client import FIRST_COMPLETED\n",
    "\n",
    "# Will throw an exception if no future completes in time\n",
    "# If it does not throw the result has two lists:\n",
    "# The done list may return between one and all futures.\n",
    "# The not_done list may contain zero or more futures.\n",
    "finished = wait(futures, 1, return_when=FIRST_COMPLETED)\n",
    "\n",
    "# Process the returned futures\n",
    "for f in finished.done:\n",
    "    print(f.result())\n",
    "    \n",
    "# Cancel the futures we don't need\n",
    "for f in finished.not_done:\n",
    "    f.cancel()\n",
    "#end::time_limit_first[]"
   ]
  },
  {
   "cell_type": "code",
   "execution_count": 98,
   "id": "a5fe55fd-4c65-43cf-a269-7555383fee7c",
   "metadata": {},
   "outputs": [
    {
     "name": "stdout",
     "output_type": "stream",
     "text": [
      "57\n",
      "75\n",
      "72\n",
      "66\n",
      "45\n",
      "36\n",
      "3\n",
      "9\n",
      "6\n",
      "0\n",
      "33\n",
      "18\n",
      "60\n",
      "21\n",
      "30\n",
      "51\n",
      "15\n",
      "63\n",
      "24\n",
      "27\n",
      "48\n",
      "42\n",
      "39\n",
      "69\n",
      "54\n",
      "12\n"
     ]
    },
    {
     "ename": "TimeoutError",
     "evalue": "",
     "output_type": "error",
     "traceback": [
      "\u001b[0;31m---------------------------------------------------------------------------\u001b[0m",
      "\u001b[0;31mTimeoutError\u001b[0m                              Traceback (most recent call last)",
      "Input \u001b[0;32mIn [98]\u001b[0m, in \u001b[0;36m<cell line: 6>\u001b[0;34m()\u001b[0m\n\u001b[1;32m      6\u001b[0m \u001b[38;5;28;01mwhile\u001b[39;00m \u001b[38;5;28mlen\u001b[39m(futures) \u001b[38;5;241m>\u001b[39m \u001b[38;5;241m0\u001b[39m \u001b[38;5;129;01mand\u001b[39;00m time\u001b[38;5;241m.\u001b[39mtime() \u001b[38;5;241m-\u001b[39m start \u001b[38;5;241m<\u001b[39m max_wait:\n\u001b[1;32m      7\u001b[0m     \u001b[38;5;28;01mtry\u001b[39;00m:\n\u001b[0;32m----> 8\u001b[0m         finished \u001b[38;5;241m=\u001b[39m \u001b[43mwait\u001b[49m\u001b[43m(\u001b[49m\u001b[43mfutures\u001b[49m\u001b[43m,\u001b[49m\u001b[43m \u001b[49m\u001b[38;5;241;43m1\u001b[39;49m\u001b[43m,\u001b[49m\u001b[43m \u001b[49m\u001b[43mreturn_when\u001b[49m\u001b[38;5;241;43m=\u001b[39;49m\u001b[43mFIRST_COMPLETED\u001b[49m\u001b[43m)\u001b[49m\n\u001b[1;32m      9\u001b[0m         \u001b[38;5;28;01mfor\u001b[39;00m f \u001b[38;5;129;01min\u001b[39;00m finished\u001b[38;5;241m.\u001b[39mdone:\n\u001b[1;32m     10\u001b[0m             \u001b[38;5;28mprint\u001b[39m(f\u001b[38;5;241m.\u001b[39mresult())\n",
      "File \u001b[0;32m~/.local/lib/python3.8/site-packages/distributed/client.py:4681\u001b[0m, in \u001b[0;36mwait\u001b[0;34m(fs, timeout, return_when)\u001b[0m\n\u001b[1;32m   4665\u001b[0m \u001b[38;5;124;03m\"\"\"Wait until all/any futures are finished\u001b[39;00m\n\u001b[1;32m   4666\u001b[0m \n\u001b[1;32m   4667\u001b[0m \u001b[38;5;124;03mParameters\u001b[39;00m\n\u001b[0;32m   (...)\u001b[0m\n\u001b[1;32m   4678\u001b[0m \u001b[38;5;124;03mNamed tuple of completed, not completed\u001b[39;00m\n\u001b[1;32m   4679\u001b[0m \u001b[38;5;124;03m\"\"\"\u001b[39;00m\n\u001b[1;32m   4680\u001b[0m client \u001b[38;5;241m=\u001b[39m default_client()\n\u001b[0;32m-> 4681\u001b[0m result \u001b[38;5;241m=\u001b[39m \u001b[43mclient\u001b[49m\u001b[38;5;241;43m.\u001b[39;49m\u001b[43msync\u001b[49m\u001b[43m(\u001b[49m\u001b[43m_wait\u001b[49m\u001b[43m,\u001b[49m\u001b[43m \u001b[49m\u001b[43mfs\u001b[49m\u001b[43m,\u001b[49m\u001b[43m \u001b[49m\u001b[43mtimeout\u001b[49m\u001b[38;5;241;43m=\u001b[39;49m\u001b[43mtimeout\u001b[49m\u001b[43m,\u001b[49m\u001b[43m \u001b[49m\u001b[43mreturn_when\u001b[49m\u001b[38;5;241;43m=\u001b[39;49m\u001b[43mreturn_when\u001b[49m\u001b[43m)\u001b[49m\n\u001b[1;32m   4682\u001b[0m \u001b[38;5;28;01mreturn\u001b[39;00m result\n",
      "File \u001b[0;32m~/.local/lib/python3.8/site-packages/distributed/utils.py:318\u001b[0m, in \u001b[0;36mSyncMethodMixin.sync\u001b[0;34m(self, func, asynchronous, callback_timeout, *args, **kwargs)\u001b[0m\n\u001b[1;32m    316\u001b[0m     \u001b[38;5;28;01mreturn\u001b[39;00m future\n\u001b[1;32m    317\u001b[0m \u001b[38;5;28;01melse\u001b[39;00m:\n\u001b[0;32m--> 318\u001b[0m     \u001b[38;5;28;01mreturn\u001b[39;00m \u001b[43msync\u001b[49m\u001b[43m(\u001b[49m\n\u001b[1;32m    319\u001b[0m \u001b[43m        \u001b[49m\u001b[38;5;28;43mself\u001b[39;49m\u001b[38;5;241;43m.\u001b[39;49m\u001b[43mloop\u001b[49m\u001b[43m,\u001b[49m\u001b[43m \u001b[49m\u001b[43mfunc\u001b[49m\u001b[43m,\u001b[49m\u001b[43m \u001b[49m\u001b[38;5;241;43m*\u001b[39;49m\u001b[43margs\u001b[49m\u001b[43m,\u001b[49m\u001b[43m \u001b[49m\u001b[43mcallback_timeout\u001b[49m\u001b[38;5;241;43m=\u001b[39;49m\u001b[43mcallback_timeout\u001b[49m\u001b[43m,\u001b[49m\u001b[43m \u001b[49m\u001b[38;5;241;43m*\u001b[39;49m\u001b[38;5;241;43m*\u001b[39;49m\u001b[43mkwargs\u001b[49m\n\u001b[1;32m    320\u001b[0m \u001b[43m    \u001b[49m\u001b[43m)\u001b[49m\n",
      "File \u001b[0;32m~/.local/lib/python3.8/site-packages/distributed/utils.py:385\u001b[0m, in \u001b[0;36msync\u001b[0;34m(loop, func, callback_timeout, *args, **kwargs)\u001b[0m\n\u001b[1;32m    383\u001b[0m \u001b[38;5;28;01mif\u001b[39;00m error:\n\u001b[1;32m    384\u001b[0m     typ, exc, tb \u001b[38;5;241m=\u001b[39m error\n\u001b[0;32m--> 385\u001b[0m     \u001b[38;5;28;01mraise\u001b[39;00m exc\u001b[38;5;241m.\u001b[39mwith_traceback(tb)\n\u001b[1;32m    386\u001b[0m \u001b[38;5;28;01melse\u001b[39;00m:\n\u001b[1;32m    387\u001b[0m     \u001b[38;5;28;01mreturn\u001b[39;00m result\n",
      "File \u001b[0;32m~/.local/lib/python3.8/site-packages/distributed/utils.py:358\u001b[0m, in \u001b[0;36msync.<locals>.f\u001b[0;34m()\u001b[0m\n\u001b[1;32m    356\u001b[0m         future \u001b[38;5;241m=\u001b[39m asyncio\u001b[38;5;241m.\u001b[39mwait_for(future, callback_timeout)\n\u001b[1;32m    357\u001b[0m     future \u001b[38;5;241m=\u001b[39m asyncio\u001b[38;5;241m.\u001b[39mensure_future(future)\n\u001b[0;32m--> 358\u001b[0m     result \u001b[38;5;241m=\u001b[39m \u001b[38;5;28;01myield\u001b[39;00m future\n\u001b[1;32m    359\u001b[0m \u001b[38;5;28;01mexcept\u001b[39;00m \u001b[38;5;167;01mException\u001b[39;00m:\n\u001b[1;32m    360\u001b[0m     error \u001b[38;5;241m=\u001b[39m sys\u001b[38;5;241m.\u001b[39mexc_info()\n",
      "File \u001b[0;32m~/.local/lib/python3.8/site-packages/tornado/gen.py:762\u001b[0m, in \u001b[0;36mRunner.run\u001b[0;34m(self)\u001b[0m\n\u001b[1;32m    759\u001b[0m exc_info \u001b[38;5;241m=\u001b[39m \u001b[38;5;28;01mNone\u001b[39;00m\n\u001b[1;32m    761\u001b[0m \u001b[38;5;28;01mtry\u001b[39;00m:\n\u001b[0;32m--> 762\u001b[0m     value \u001b[38;5;241m=\u001b[39m \u001b[43mfuture\u001b[49m\u001b[38;5;241;43m.\u001b[39;49m\u001b[43mresult\u001b[49m\u001b[43m(\u001b[49m\u001b[43m)\u001b[49m\n\u001b[1;32m    763\u001b[0m \u001b[38;5;28;01mexcept\u001b[39;00m \u001b[38;5;167;01mException\u001b[39;00m:\n\u001b[1;32m    764\u001b[0m     exc_info \u001b[38;5;241m=\u001b[39m sys\u001b[38;5;241m.\u001b[39mexc_info()\n",
      "File \u001b[0;32m~/.local/lib/python3.8/site-packages/distributed/client.py:4651\u001b[0m, in \u001b[0;36m_wait\u001b[0;34m(fs, timeout, return_when)\u001b[0m\n\u001b[1;32m   4649\u001b[0m \u001b[38;5;28;01mif\u001b[39;00m timeout \u001b[38;5;129;01mis\u001b[39;00m \u001b[38;5;129;01mnot\u001b[39;00m \u001b[38;5;28;01mNone\u001b[39;00m:\n\u001b[1;32m   4650\u001b[0m     future \u001b[38;5;241m=\u001b[39m asyncio\u001b[38;5;241m.\u001b[39mwait_for(future, timeout)\n\u001b[0;32m-> 4651\u001b[0m \u001b[38;5;28;01mawait\u001b[39;00m future\n\u001b[1;32m   4653\u001b[0m done, not_done \u001b[38;5;241m=\u001b[39m (\n\u001b[1;32m   4654\u001b[0m     {fu \u001b[38;5;28;01mfor\u001b[39;00m fu \u001b[38;5;129;01min\u001b[39;00m fs \u001b[38;5;28;01mif\u001b[39;00m fu\u001b[38;5;241m.\u001b[39mstatus \u001b[38;5;241m!=\u001b[39m \u001b[38;5;124m\"\u001b[39m\u001b[38;5;124mpending\u001b[39m\u001b[38;5;124m\"\u001b[39m},\n\u001b[1;32m   4655\u001b[0m     {fu \u001b[38;5;28;01mfor\u001b[39;00m fu \u001b[38;5;129;01min\u001b[39;00m fs \u001b[38;5;28;01mif\u001b[39;00m fu\u001b[38;5;241m.\u001b[39mstatus \u001b[38;5;241m==\u001b[39m \u001b[38;5;124m\"\u001b[39m\u001b[38;5;124mpending\u001b[39m\u001b[38;5;124m\"\u001b[39m},\n\u001b[1;32m   4656\u001b[0m )\n\u001b[1;32m   4657\u001b[0m cancelled \u001b[38;5;241m=\u001b[39m [f\u001b[38;5;241m.\u001b[39mkey \u001b[38;5;28;01mfor\u001b[39;00m f \u001b[38;5;129;01min\u001b[39;00m done \u001b[38;5;28;01mif\u001b[39;00m f\u001b[38;5;241m.\u001b[39mstatus \u001b[38;5;241m==\u001b[39m \u001b[38;5;124m\"\u001b[39m\u001b[38;5;124mcancelled\u001b[39m\u001b[38;5;124m\"\u001b[39m]\n",
      "File \u001b[0;32m/opt/conda/lib/python3.8/asyncio/tasks.py:490\u001b[0m, in \u001b[0;36mwait_for\u001b[0;34m(fut, timeout, loop)\u001b[0m\n\u001b[1;32m    486\u001b[0m         \u001b[38;5;66;03m# We must ensure that the task is not running\u001b[39;00m\n\u001b[1;32m    487\u001b[0m         \u001b[38;5;66;03m# after wait_for() returns.\u001b[39;00m\n\u001b[1;32m    488\u001b[0m         \u001b[38;5;66;03m# See https://bugs.python.org/issue32751\u001b[39;00m\n\u001b[1;32m    489\u001b[0m         \u001b[38;5;28;01mawait\u001b[39;00m _cancel_and_wait(fut, loop\u001b[38;5;241m=\u001b[39mloop)\n\u001b[0;32m--> 490\u001b[0m         \u001b[38;5;28;01mraise\u001b[39;00m exceptions\u001b[38;5;241m.\u001b[39mTimeoutError()\n\u001b[1;32m    491\u001b[0m \u001b[38;5;28;01mfinally\u001b[39;00m:\n\u001b[1;32m    492\u001b[0m     timeout_handle\u001b[38;5;241m.\u001b[39mcancel()\n",
      "\u001b[0;31mTimeoutError\u001b[0m: "
     ]
    },
    {
     "name": "stderr",
     "output_type": "stream",
     "text": [
      "2022-06-19 13:32:29,776 - distributed.scheduler - WARNING - Worker failed to heartbeat within 300 seconds. Closing: <WorkerState 'tcp://127.0.0.1:35053', name: 0, status: running, memory: 3, processing: 0>\n",
      "2022-06-19 13:32:29,780 - distributed.scheduler - WARNING - Worker failed to heartbeat within 300 seconds. Closing: <WorkerState 'tcp://127.0.0.1:45905', name: 3, status: running, memory: 3, processing: 1>\n",
      "2022-06-19 13:32:29,840 - distributed.nanny - ERROR - Worker process died unexpectedly\n",
      "2022-06-19 13:32:29,840 - distributed.nanny - ERROR - Worker process died unexpectedly\n"
     ]
    }
   ],
   "source": [
    "futures = client.map(slow, range(0, 30))\n",
    "#tag::time_limit_some[]\n",
    "max_wait = 10\n",
    "start = time.time()\n",
    "\n",
    "while len(futures) > 0 and time.time() - start < max_wait:\n",
    "    try:\n",
    "        finished = wait(futures, 1, return_when=FIRST_COMPLETED)\n",
    "        for f in finished.done:\n",
    "            print(f.result())\n",
    "        futures = finished.not_done\n",
    "    except TimeoutError:\n",
    "        True # No future finished in this cycle\n",
    "\n",
    "# Cancel any remaining futures\n",
    "for f in futures:  \n",
    "    f.cancel()\n",
    "#end::time_limit_some[]"
   ]
  },
  {
   "cell_type": "code",
   "execution_count": 76,
   "id": "c4ecb4b1-61d6-499e-97b3-e935fd8600ac",
   "metadata": {},
   "outputs": [],
   "source": [
    "#tag::time_limit_all[]\n",
    "# You can also wait for all of the futures:\n",
    "finished = wait(futures, 10) # Throws an exception if not all finished by timeout\n",
    "#end::time_limit_all[]"
   ]
  },
  {
   "cell_type": "code",
   "execution_count": 89,
   "id": "e4f16f23-9cdc-46b2-a7dd-89748e8cf098",
   "metadata": {},
   "outputs": [
    {
     "data": {
      "text/plain": [
       "set"
      ]
     },
     "execution_count": 89,
     "metadata": {},
     "output_type": "execute_result"
    }
   ],
   "source": [
    "type(finished.done)"
   ]
  },
  {
   "cell_type": "code",
   "execution_count": 103,
   "id": "5f3f3c40-034e-4438-abca-506e9550fc97",
   "metadata": {},
   "outputs": [],
   "source": []
  },
  {
   "cell_type": "code",
   "execution_count": null,
   "id": "bb2376f3-b147-491e-a608-c8cd9462ef95",
   "metadata": {},
   "outputs": [],
   "source": []
  }
 ],
 "metadata": {
  "kernelspec": {
   "display_name": "Python 3 (ipykernel)",
   "language": "python",
   "name": "python3"
  },
  "language_info": {
   "codemirror_mode": {
    "name": "ipython",
    "version": 3
   },
   "file_extension": ".py",
   "mimetype": "text/x-python",
   "name": "python",
   "nbconvert_exporter": "python",
   "pygments_lexer": "ipython3",
   "version": "3.8.5"
  }
 },
 "nbformat": 4,
 "nbformat_minor": 5
}
