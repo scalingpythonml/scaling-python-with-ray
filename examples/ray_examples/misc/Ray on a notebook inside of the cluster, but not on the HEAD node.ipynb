{
 "cells": [
  {
   "cell_type": "code",
   "execution_count": null,
   "metadata": {},
   "outputs": [],
   "source": [
    "from collections import Counter\n",
    "import sys\n",
    "import time\n",
    "import ray"
   ]
  },
  {
   "cell_type": "code",
   "execution_count": null,
   "metadata": {},
   "outputs": [],
   "source": [
    "# Connect to the ray cluster\n",
    "CLUSTER_NAME = \"gpu-cluster\"\n",
    "NAMESPACE = \"ray\"\n",
    "PORT=10001\n",
    "# The dns name is based off of the service name which is [cluster]-ray-head & namespace\n",
    "dns_name = f\"{CLUSTER_NAME}-ray-head.{NAMESPACE}.svc\"\n",
    "ray.util.connect(f\"{dns_name}:{PORT}\")"
   ]
  },
  {
   "cell_type": "code",
   "execution_count": null,
   "metadata": {},
   "outputs": [],
   "source": []
  },
  {
   "cell_type": "code",
   "execution_count": null,
   "metadata": {},
   "outputs": [],
   "source": [
    "@ray.remote\n",
    "def gethostname(x):\n",
    "    import platform\n",
    "    import time\n",
    "    time.sleep(0.01)\n",
    "    return x + (platform.node(), )"
   ]
  },
  {
   "cell_type": "code",
   "execution_count": null,
   "metadata": {},
   "outputs": [],
   "source": [
    "# Check that objects can be transferred from each node to each other node.\n",
    "for i in range(10):\n",
    "    print(\"Iteration {}\".format(i))\n",
    "    results = [\n",
    "        gethostname.remote(gethostname.remote(())) for _ in range(100)\n",
    "    ]\n",
    "    print(Counter(ray.get(results)))\n",
    "\n",
    "    print(\"Success!\")\n"
   ]
  }
 ],
 "metadata": {
  "kernelspec": {
   "display_name": "Python 3 (ipykernel)",
   "language": "python",
   "name": "python3"
  },
  "language_info": {
   "codemirror_mode": {
    "name": "ipython",
    "version": 3
   },
   "file_extension": ".py",
   "mimetype": "text/x-python",
   "name": "python",
   "nbconvert_exporter": "python",
   "pygments_lexer": "ipython3",
   "version": "3.8.12"
  }
 },
 "nbformat": 4,
 "nbformat_minor": 4
}
