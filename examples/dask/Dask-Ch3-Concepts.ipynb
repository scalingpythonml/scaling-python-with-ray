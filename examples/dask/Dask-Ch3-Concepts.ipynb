{
 "cells": [
  {
   "cell_type": "code",
   "execution_count": null,
   "id": "44f06651",
   "metadata": {},
   "outputs": [],
   "source": [
    "import dask\n",
    "# Dask multithreading is only suited for mostly non-Python code (like pandas, numpy, etc.)\n",
    "#tag::threads[]\n",
    "dask.config.set(scheduler='threads')\n",
    "#end::threads[]\n",
    "#tag::process[]\n",
    "dask.config.set(scheduler='processes')\n",
    "#end::process[]\n",
    "#tag::dask_use_forkserver[]\n",
    "dask.config.set({\"multiprocessing.context\": \"forkserver\", \"scheduler\": \"processes\"})\n",
    "#end::dask_use_forkserver[]"
   ]
  },
  {
   "cell_type": "code",
   "execution_count": null,
   "id": "1e93fb7c",
   "metadata": {},
   "outputs": [
    {
     "name": "stdout",
     "output_type": "stream",
     "text": [
      "Creating scheduler pod on cluster. This may take some time.\n"
     ]
    }
   ],
   "source": [
    "#tag::make_dask_k8s_client[]\n",
    "import dask\n",
    "from dask.distributed import Client\n",
    "from dask_kubernetes import KubeCluster, make_pod_spec\n",
    "worker_template = make_pod_spec(image='holdenk/dask:latest',\n",
    "                         memory_limit='8G', memory_request='8G',\n",
    "                         cpu_limit=1, cpu_request=1)\n",
    "scheduler_template = make_pod_spec(image='holdenk/dask:latest',\n",
    "                         memory_limit='4G', memory_request='4G',\n",
    "                         cpu_limit=1, cpu_request=1)\n",
    "cluster = KubeCluster(pod_template = worker_template, scheduler_pod_template = scheduler_template)\n",
    "cluster.adapt()    # or create and destroy workers dynamically based on workload\n",
    "from dask.distributed import Client\n",
    "client = Client(cluster)\n",
    "#end::make_dask_k8s_client[]"
   ]
  },
  {
   "cell_type": "code",
   "execution_count": null,
   "id": "2ffb2f90",
   "metadata": {},
   "outputs": [],
   "source": [
    "#tag::fib_task_hello_world[]\n",
    "def dask_fib(x):\n",
    "    if x < 2:\n",
    "        return x\n",
    "    a = dask.delayed(dask_fib(x-1))\n",
    "    b = dask.delayed(dask_fib(x-2))\n",
    "    c, d = dask.compute(a, b) # Compute in parallel\n",
    "    return c + d\n",
    "\n",
    "def seq_fib(x):\n",
    "    if x < 2:\n",
    "        return x\n",
    "    return seq_fib(x-1) + seq_fib(x-2)\n",
    "\n",
    "import functools\n",
    "@functools.lru_cache\n",
    "def fib(x):\n",
    "    if x < 2:\n",
    "        return x\n",
    "    return fib(x-1) + fib(x-2)\n",
    "\n",
    "import timeit\n",
    "seq_time = timeit.timeit(lambda: seq_fib(14), number=1)\n",
    "dask_time = timeit.timeit(lambda: dask_fib(14), number=1)\n",
    "memoized_time = timeit.timeit(lambda: fib(14), number=1)\n",
    "print(\"In sequence {}, in parallel {}, memoized\".format(seq_time, dask_time, memoized_time))\n",
    "#end::fib_task_hello_world[]"
   ]
  },
  {
   "cell_type": "code",
   "execution_count": null,
   "id": "b6a14077",
   "metadata": {},
   "outputs": [],
   "source": []
  }
 ],
 "metadata": {
  "kernelspec": {
   "display_name": "Python 3 (ipykernel)",
   "language": "python",
   "name": "python3"
  },
  "language_info": {
   "codemirror_mode": {
    "name": "ipython",
    "version": 3
   },
   "file_extension": ".py",
   "mimetype": "text/x-python",
   "name": "python",
   "nbconvert_exporter": "python",
   "pygments_lexer": "ipython3",
   "version": "3.7.10"
  }
 },
 "nbformat": 4,
 "nbformat_minor": 5
}
