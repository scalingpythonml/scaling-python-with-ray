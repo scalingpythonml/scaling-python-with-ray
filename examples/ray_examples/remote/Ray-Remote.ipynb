{
 "cells": [
  {
   "cell_type": "code",
   "execution_count": null,
   "id": "cfb84e0c",
   "metadata": {},
   "outputs": [],
   "source": [
    "from typing import Tuple\n",
    "import ray\n",
    "ray.init(num_cpus=20) # In theory auto sensed, in practice... eh"
   ]
  },
  {
   "cell_type": "code",
   "execution_count": null,
   "id": "841b6668",
   "metadata": {},
   "outputs": [],
   "source": [
    "import sys\n",
    "import time\n",
    "import timeit\n",
    "import threading\n",
    "import random"
   ]
  },
  {
   "cell_type": "code",
   "execution_count": null,
   "id": "0d985158",
   "metadata": {},
   "outputs": [],
   "source": [
    "\n",
    "#tag::variable_sleep_task[]\n",
    "@ray.remote\n",
    "def remote_task(x):\n",
    "    time.sleep(x)\n",
    "    return x\n",
    "#end::variable_sleep_task[]\n",
    "\n",
    "things = list(range(10))\n",
    "things.sort(reverse=True)"
   ]
  },
  {
   "cell_type": "code",
   "execution_count": null,
   "id": "cc132927",
   "metadata": {},
   "outputs": [],
   "source": [
    "#tag::get_only[]\n",
    "# Process in order\n",
    "def in_order():\n",
    "    # Make the futures\n",
    "    futures = list(map(lambda x: remote_task.remote(x), things))\n",
    "    values = ray.get(futures)\n",
    "    for v in values:\n",
    "        print(f\" Completed {v}\")\n",
    "        time.sleep(1) # Business logic goes here\n",
    "#tag::get_only[]"
   ]
  },
  {
   "cell_type": "code",
   "execution_count": null,
   "id": "52d59181",
   "metadata": {},
   "outputs": [],
   "source": [
    "# Does not work - TypeError: get() takes 1 positional argument but 10 were given\n",
    "#tag::get_only_splat[]\n",
    "# Make the futures\n",
    "#futures = map(lambda x: remote_task.remote(x), things)\n",
    "#values = ray.get(*futures)\n",
    "#for v in values:\n",
    "#    print(f\" Completed {v}\")\n",
    "#tag::get_only_splat[]"
   ]
  },
  {
   "cell_type": "code",
   "execution_count": null,
   "id": "0993d5ba",
   "metadata": {},
   "outputs": [],
   "source": [
    "# Currently ray.wait will not return more than num_returns objects as ready\n",
    "# even if there are. This might change so even when fetching an object at a time\n",
    "# iterate over the result.\n",
    "#tag::as_available[]\n",
    "# Process as results become available\n",
    "def as_available():\n",
    "    # Make the futures\n",
    "    futures = list(map(lambda x: remote_task.remote(x), things))\n",
    "    # While we still have pending futures\n",
    "    while len(futures) > 0:\n",
    "        ready_futures, rest_futures = ray.wait(futures)\n",
    "        print(f\"Ready {len(ready_futures)} rest {len(rest_futures)}\")\n",
    "        for id in ready_futures:\n",
    "            print(f'completed value {id}, result {ray.get(id)}')\n",
    "            time.sleep(1) # Business logic goes here\n",
    "        # We just need to wait on the ones which are not yet available\n",
    "        futures = rest_futures\n",
    "#end::as_available[]"
   ]
  },
  {
   "cell_type": "code",
   "execution_count": null,
   "id": "07e64f8a",
   "metadata": {},
   "outputs": [],
   "source": [
    "timeit.timeit(lambda: as_available(), number=1)"
   ]
  },
  {
   "cell_type": "code",
   "execution_count": null,
   "id": "5e774d86",
   "metadata": {},
   "outputs": [],
   "source": [
    "timeit.timeit(lambda: in_order(), number=1)"
   ]
  },
  {
   "cell_type": "code",
   "execution_count": null,
   "id": "66ab55d3",
   "metadata": {},
   "outputs": [],
   "source": [
    "#tag::handle_bad_futures[]\n",
    "futures = list(map(lambda x: remote_task.remote(x), [1, threading.TIMEOUT_MAX]))\n",
    "# While we still have pending futures\n",
    "while len(futures) > 0:\n",
    "    # In practice 10 seconds is too short for most cases.\n",
    "    ready_futures, rest_futures = ray.wait(futures, timeout=10, num_returns=1)\n",
    "    # If we get back anything less than num_returns \n",
    "    if len(ready_futures) < 1:\n",
    "        print(f\"Timed out on {rest_futures}\")\n",
    "        # You don't _have to cancel_ but if you've your task is using a lot of resources\n",
    "        ray.cancel(*rest_futures)\n",
    "        # You should break since you exceeded your timeout\n",
    "        break\n",
    "    for id in ready_futures:\n",
    "        print(f'completed value {id}, result {ray.get(id)}')\n",
    "        futures = rest_futures\n",
    "#end::handle_bad_futures[]"
   ]
  },
  {
   "cell_type": "code",
   "execution_count": null,
   "id": "ccec6230",
   "metadata": {},
   "outputs": [],
   "source": [
    "remote_task.remote(1)"
   ]
  },
  {
   "cell_type": "code",
   "execution_count": null,
   "id": "5995319e",
   "metadata": {},
   "outputs": [],
   "source": [
    "#tag::ray_remote_seq[]\n",
    "@ray.remote\n",
    "def generate_number(s: int, limit: int, sl: float) -> int :\n",
    "   random.seed(s)\n",
    "   time.sleep(sl)\n",
    "   return random.randint(0, limit)\n",
    "\n",
    "@ray.remote\n",
    "def sum_values(v1: int, v2: int, v3: int) -> int :\n",
    "   return v1+v2+v3\n",
    "\n",
    "# get result\n",
    "print(ray.get(sum_values.remote(generate_number.remote(1, 10, .1),\n",
    "       generate_number.remote(5, 20, .2), generate_number.remote(7, 15, .3))))\n",
    "#end::ray_remote_seq[]"
   ]
  },
  {
   "cell_type": "code",
   "execution_count": null,
   "id": "d95a4fd6",
   "metadata": {},
   "outputs": [],
   "source": [
    "# Does not work -- Ray won't resolve any nested ObjectRefs\n",
    "#tag::broken_ray_remote_seq[]\n",
    "@ray.remote\n",
    "def generate_number(s: int, limit: int, sl: float) -> int :\n",
    "   random.seed(s)\n",
    "   time.sleep(sl)\n",
    "   return random.randint(0, limit)\n",
    "\n",
    "@ray.remote\n",
    "def sum_values(values: []) -> int :\n",
    "   return sum(values)\n",
    "\n",
    "# get result\n",
    "print(ray.get(sum_values.remote([generate_number.remote(1, 10, .1),\n",
    "       generate_number.remote(5, 20, .2), generate_number.remote(7, 15, .3)])))\n",
    "#end::broken_ray_remote_seq[]"
   ]
  },
  {
   "cell_type": "code",
   "execution_count": null,
   "id": "db74755c",
   "metadata": {},
   "outputs": [],
   "source": [
    "#tag::ray_no_pipeline[]\n",
    "@ray.remote\n",
    "def generate_number(s: int, limit: int, sl: float) -> int :\n",
    "   random.seed(s)\n",
    "   time.sleep(sl)\n",
    "   return random.randint(0, limit)\n",
    "\n",
    "@ray.remote\n",
    "def sum_values(values: []) -> int :\n",
    "   return sum(ray.get(values))\n",
    "\n",
    "# get result\n",
    "print(ray.get(sum_values.remote([generate_number.remote(1, 10, .1),\n",
    "       generate_number.remote(5, 20, .2), generate_number.remote(7, 15, .3)])))\n",
    "#end::ray_no_pipeline[]"
   ]
  },
  {
   "cell_type": "code",
   "execution_count": null,
   "id": "60799ba0",
   "metadata": {},
   "outputs": [],
   "source": [
    "#tag::nested_par[]\n",
    "@ray.remote\n",
    "def generate_number(s: int, limit: int) -> int :\n",
    "   random.seed(s)\n",
    "   time.sleep(.1)\n",
    "   return randint(0, limit)\n",
    "\n",
    "@ray.remote\n",
    "def remote_objrefs():\n",
    "   results = []\n",
    "   for n in range(4):\n",
    "       results.append(generate_number.remote(n, 4*n))\n",
    "   return results\n",
    "\n",
    "@ray.remote\n",
    "def remote_values():\n",
    "   results = []\n",
    "   for n in range(4):\n",
    "       results.append(generate_number.remote(n, 4*n))\n",
    "   return ray.get(results)\n",
    "\n",
    "print(ray.get(remote_values.remote()))\n",
    "futures = ray.get(remote_objrefs.remote())\n",
    "while len(futures) > 0:\n",
    "    ready_futures, rest_futures = ray.wait(futures, timeout=600, num_returns=1)\n",
    "    # If we get back anything less than num_returns there was a timeout\n",
    "    if len(ready_futures) < 1:\n",
    "        ray.cancel(*rest_futures)\n",
    "        break\n",
    "    for id in ready_futures:\n",
    "        print(f'completed result {ray.get(id)}')\n",
    "        futures = rest_futures\n",
    "#end::nested_par[]"
   ]
  },
  {
   "cell_type": "code",
   "execution_count": null,
   "id": "4c37c475",
   "metadata": {},
   "outputs": [],
   "source": [
    "#tag::bring_it_together_with_ensemble[]\n",
    "import random\n",
    "\n",
    "@ray.remote\n",
    "def fetch(url: str) -> Tuple[str, str]:\n",
    "    import urllib.request\n",
    "    with urllib.request.urlopen(url) as response:\n",
    "       return (url, response.read())\n",
    "\n",
    "@ray.remote\n",
    "def has_spam(site_text: Tuple[str, str]) -> bool:\n",
    "    # Open the list of spammers or download it\n",
    "    spammers_url = \"https://raw.githubusercontent.com/matomo-org/referrer-spam-list/master/spammers.txt\"\n",
    "    import urllib.request\n",
    "    with urllib.request.urlopen(spammers_url) as response:\n",
    "            spammers = response.readlines()\n",
    "            for spammer in spammers:\n",
    "                if spammer in site_text[1]:\n",
    "                    return True\n",
    "    return False\n",
    "            \n",
    "    \n",
    "@ray.remote\n",
    "def fake_spam1(us: Tuple[str, str]) -> bool:\n",
    "    # You should do something fancy here with TF or even just NLTK\n",
    "    time.sleep(10)\n",
    "    if random.randrange(10) == 1:\n",
    "        return True\n",
    "    else:\n",
    "        return False\n",
    "    \n",
    "@ray.remote\n",
    "def fake_spam2(us: Tuple[str, str]) -> bool:\n",
    "    # You should do something fancy here with TF or even just NLTK\n",
    "    time.sleep(5)\n",
    "    if random.randrange(10) > 4:\n",
    "        return True\n",
    "    else:\n",
    "        return False\n",
    "    \n",
    "@ray.remote\n",
    "def combine_is_spam(us: Tuple[str, str], model1: bool, model2: bool, model3: bool) -> Tuple[str, str, bool]:\n",
    "    # Questionable fake ensemble\n",
    "    score = model1 * 0.2 + model2 * 0.4 + model3 * 0.4\n",
    "    if score > 0.2:\n",
    "        return True\n",
    "    else:\n",
    "        return False\n",
    "#end::bring_it_together_with_ensemble[]"
   ]
  },
  {
   "cell_type": "code",
   "execution_count": null,
   "id": "9c9ff700",
   "metadata": {},
   "outputs": [],
   "source": [
    "urls = [\"http://www.unitedwifi.com\", \"http://www.google.com\", \"http://www.holdenkarau.com\"]\n",
    "site_futures = map(lambda url: fetch.remote(url), urls)\n",
    "spam_futures = map(lambda us: [us, has_spam.remote(us), fake_spam1.remote(us), fake_spam2.remote(us)],\n",
    "                   site_futures)\n",
    "info_futures = map(lambda i: combine_is_spam.remote(*i), spam_futures)\n",
    "                   \n",
    "                   \n",
    "not_ready = list(info_futures)\n",
    "while len(not_ready) > 0:\n",
    "    ready, not_ready = ray.wait(not_ready, num_returns = 1)\n",
    "    if len(ready) < 1:\n",
    "        raise Exception(\"Error fetching futures\")\n",
    "    print(ray.get(ready))"
   ]
  }
 ],
 "metadata": {
  "kernelspec": {
   "display_name": "Python 3 (ipykernel)",
   "language": "python",
   "name": "python3"
  },
  "language_info": {
   "codemirror_mode": {
    "name": "ipython",
    "version": 3
   },
   "file_extension": ".py",
   "mimetype": "text/x-python",
   "name": "python",
   "nbconvert_exporter": "python",
   "pygments_lexer": "ipython3",
   "version": "3.8.12"
  }
 },
 "nbformat": 4,
 "nbformat_minor": 5
}
