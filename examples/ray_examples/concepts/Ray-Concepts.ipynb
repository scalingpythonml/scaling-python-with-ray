{
 "cells": [
  {
   "cell_type": "code",
   "execution_count": null,
   "id": "78e8c59c",
   "metadata": {},
   "outputs": [],
   "source": [
    "import ray"
   ]
  },
  {
   "cell_type": "code",
   "execution_count": null,
   "id": "3c150f11-19f1-419b-8ae9-12dc6ea933d1",
   "metadata": {},
   "outputs": [],
   "source": [
    "from typing import *"
   ]
  },
  {
   "cell_type": "code",
   "execution_count": null,
   "id": "31d16f37",
   "metadata": {},
   "outputs": [],
   "source": [
    "#tag::pip_pkg_reqs[]\n",
    "runtime_env = {\"pip\": \"requirements.tt\"}\n",
    "#end::pip_pkg_reqs[]"
   ]
  },
  {
   "cell_type": "code",
   "execution_count": null,
   "id": "e591f917",
   "metadata": {},
   "outputs": [],
   "source": [
    "#tag::pip_pkg_list[]\n",
    "runtime_env = {\"pip\": [\"bs4\"]}\n",
    "#end::pip_pkg_list[]"
   ]
  },
  {
   "cell_type": "code",
   "execution_count": null,
   "id": "3af51683",
   "metadata": {},
   "outputs": [],
   "source": [
    "if False:\n",
    "    #tag::ray_obj_store_config[]\n",
    "    ray.init(num_cpus=20,\n",
    "         _system_config={\n",
    "            \"min_spilling_size\": 1024 * 1024,  # Spill at least 1MB\n",
    "            \"object_store_memory_mb\": 500,\n",
    "            \"object_spilling_config\": json.dumps(\n",
    "                {\"type\": \"filesystem\", \"params\": {\"directory_path\": \"/tmp/fast\"}},\n",
    "                )\n",
    "             })\n",
    "    #end::ray_obj_store_cofig[]\n",
    "else:\n",
    "    #tag::runtime_env_init[]\n",
    "    ray.init(num_cpus=20, runtime_env=runtime_env)\n",
    "    #end::runtime_env_init[]"
   ]
  },
  {
   "cell_type": "code",
   "execution_count": null,
   "id": "1f2504f5",
   "metadata": {},
   "outputs": [],
   "source": [
    "#tag::custom_serializer[]\n",
    "import ray.cloudpickle as pickle\n",
    "from multiprocessing import Pool\n",
    "pickle\n",
    "\n",
    "class BadClass:\n",
    "    def __init__(self, threadCount, friends):\n",
    "        self.friends = friends\n",
    "        self.p = Pool(threadCount) # not serializable\n",
    "\n",
    "i = BadClass(5, [\"boo\", \"boris\"])\n",
    "# This will fail with a \"NotImplementedError: pool objects cannot be passed between processes or pickled\"\n",
    "# pickle.dumps(i)\n",
    "\n",
    "class LessBadClass:\n",
    "    def __init__(self, threadCount, friends):\n",
    "        self.friends = friends\n",
    "        self.p = Pool(threadCount)\n",
    "    def __getstate__(self):\n",
    "        state_dict = self.__dict__.copy()\n",
    "        # We can't move the threads but we can move the info to make a pool of the same size\n",
    "        state_dict[\"p\"] = len(self.p._pool)\n",
    "        return state_dict\n",
    "    def __setsate__(self):\n",
    "        self.__dict__.update(state)\n",
    "        self.p = Pool(self.p)\n",
    "k = LessBadClass(5, [\"boo\", \"boris\"])\n",
    "pickle.loads(pickle.dumps(k))\n",
    "#end::custom_serializer[]"
   ]
  },
  {
   "cell_type": "code",
   "execution_count": null,
   "id": "e4dc11cb",
   "metadata": {},
   "outputs": [],
   "source": [
    "#tag::custom_serializer_not_own_class[]\n",
    "\n",
    "def custom_serializer(bad):\n",
    "    return {\"threads\": len(bad.p._pool), \"friends\": bad.friends}\n",
    "\n",
    "def custom_deserializer(params):\n",
    "    return BadClass(params[\"threads\"], params[\"friends\"])\n",
    "\n",
    "# Register serializer and deserializer the BadClass:\n",
    "ray.util.register_serializer(\n",
    "  BadClass, serializer=custom_serializer, deserializer=custom_deserializer)\n",
    "ray.get(ray.put(i))\n",
    "#end::custom_serializer_not_own_class[]"
   ]
  },
  {
   "cell_type": "code",
   "execution_count": null,
   "id": "75a4e8ac",
   "metadata": {},
   "outputs": [],
   "source": [
    "ray.util.inspect_serializability(Pool(5))"
   ]
  },
  {
   "cell_type": "code",
   "execution_count": null,
   "id": "950ef5f8",
   "metadata": {},
   "outputs": [],
   "source": [
    "#tag::flaky_remote_fun[]\n",
    "@ray.remote\n",
    "def flaky_remote_fun(x):\n",
    "    import random\n",
    "    import sys\n",
    "    if random.randint(0, 2) == 1:\n",
    "        sys.exit(0)\n",
    "    return x\n",
    "\n",
    "r = flaky_remote_fun.remote(1)\n",
    "#end::flaky_remote_fun[]"
   ]
  },
  {
   "cell_type": "code",
   "execution_count": null,
   "id": "6926ff25",
   "metadata": {},
   "outputs": [],
   "source": [
    "ray.get(r)"
   ]
  },
  {
   "cell_type": "code",
   "execution_count": null,
   "id": "c4c2a86d",
   "metadata": {},
   "outputs": [],
   "source": [
    "r = flaky_remote_fun.remote(1)"
   ]
  },
  {
   "cell_type": "code",
   "execution_count": null,
   "id": "d58aa7a1",
   "metadata": {},
   "outputs": [],
   "source": [
    "ray.get(r)"
   ]
  },
  {
   "cell_type": "code",
   "execution_count": null,
   "id": "35d15455",
   "metadata": {},
   "outputs": [],
   "source": [
    "#tag::flaky_remote_fun_exception[]\n",
    "@ray.remote\n",
    "def flaky_remote_fun_exception(x):\n",
    "    import random\n",
    "    import sys\n",
    "    if random.randint(0, 2) == 1:\n",
    "        raise Exception(\"teapots\")\n",
    "    return x\n",
    "\n",
    "r = flaky_remote_fun_exception.remote(1)\n",
    "#end::flaky_remote_fun_exception[]"
   ]
  },
  {
   "cell_type": "code",
   "execution_count": null,
   "id": "2b048492",
   "metadata": {},
   "outputs": [],
   "source": [
    "ray.get(flaky_remote_fun_exception.remote(1))"
   ]
  },
  {
   "cell_type": "code",
   "execution_count": null,
   "id": "536e3148",
   "metadata": {},
   "outputs": [],
   "source": [
    "#tag::flaky_constructor_actor[]\n",
    "flaky_constructor_actor = None\n",
    "@ray.remote(max_restarts=5)\n",
    "class FlakyActor(object):    \n",
    "    def __init__(self):\n",
    "        import random\n",
    "        import sys\n",
    "        if random.randint(0, 2) == 1:\n",
    "            sys.exit(1)\n",
    "        self.value = 0\n",
    "\n",
    "    def greet(self):\n",
    "        self.value += 1\n",
    "        return f\"Hi user #{self.value}\"\n",
    "\n",
    "flaky_constructor_actor = FlakyActor.remote()\n",
    "#end::flaky_constructor_actor[]"
   ]
  },
  {
   "cell_type": "code",
   "execution_count": null,
   "id": "19af9823",
   "metadata": {},
   "outputs": [],
   "source": [
    "j = None\n",
    "j = ray.get(flaky_constructor_actor.greet.remote())\n",
    "j"
   ]
  },
  {
   "cell_type": "code",
   "execution_count": null,
   "id": "7e003231",
   "metadata": {},
   "outputs": [],
   "source": [
    "j"
   ]
  },
  {
   "cell_type": "code",
   "execution_count": null,
   "id": "5ebb7500",
   "metadata": {},
   "outputs": [],
   "source": [
    "#tag::flaky_in_msg_actor[]\n",
    "@ray.remote(max_restarts=5)\n",
    "class FlakyMsgActor(object):    \n",
    "    def __init__(self):\n",
    "        import random\n",
    "        self.value = 0\n",
    "\n",
    "    def greet(self):\n",
    "        self.value += 1\n",
    "        import random\n",
    "        if random.randint(0, 2) == 1:\n",
    "            raise Exception(\"I am a teapot\")\n",
    "        return f\"Hi user #{self.value}\"\n",
    "\n",
    "flaky_msg_actor = FlakyMsgActor.remote()\n",
    "#end::flaky_in_msg_actor[]"
   ]
  },
  {
   "cell_type": "code",
   "execution_count": null,
   "id": "1b518a04",
   "metadata": {},
   "outputs": [],
   "source": [
    "ray.get(flaky_msg_actor.greet.remote())"
   ]
  },
  {
   "cell_type": "code",
   "execution_count": null,
   "id": "a87f868e",
   "metadata": {},
   "outputs": [],
   "source": [
    "#tag::flaky_in_msg_crash_actor[]\n",
    "@ray.remote(max_restarts=5)\n",
    "class FlakyMsgCrashActor(object):    \n",
    "    def __init__(self):\n",
    "        import random\n",
    "        self.value = 0\n",
    "\n",
    "    def greet(self):\n",
    "        self.value += 1\n",
    "        import random\n",
    "        if random.randint(0, 3) == 1:\n",
    "            import sys\n",
    "            sys.exit(1)\n",
    "        return f\"Hi user #{self.value}\"\n",
    "\n",
    "flaky_msg_crashactor = FlakyMsgCrashActor.remote()\n",
    "#end::flaky_in_msg_crash_actor[]"
   ]
  },
  {
   "cell_type": "code",
   "execution_count": null,
   "id": "af0e9083",
   "metadata": {},
   "outputs": [],
   "source": [
    "ray.get(flaky_msg_crashactor.greet.remote())"
   ]
  },
  {
   "cell_type": "code",
   "execution_count": null,
   "id": "4c302357",
   "metadata": {},
   "outputs": [],
   "source": [
    "flaky_msg_crashactor.greet.remote()"
   ]
  },
  {
   "cell_type": "code",
   "execution_count": null,
   "id": "f3a25ef1",
   "metadata": {},
   "outputs": [],
   "source": [
    "#tag::flaky_inbetween[]\n",
    "@ray.remote(max_restarts=5)\n",
    "class FlakyInBetweenActor(object):  \n",
    "    def __init__(self):\n",
    "        import random\n",
    "        import threading\n",
    "        # Create a backup thread to simulate failure\n",
    "        self.thread = threading.Thread(target=self.run, args=())\n",
    "        self.thread.daemon = True # Daemonize thread\n",
    "        self.thread.start() # Start the execution\n",
    "        self.value = 0\n",
    "\n",
    "    def run(self):\n",
    "        import time\n",
    "        time.sleep(4)\n",
    "        import os, signal\n",
    "        p = os.getpid()\n",
    "        # Ray traps SIGINT so use SIGKILL\n",
    "        os.kill(os.getpid(), signal.SIGKILL)\n",
    "\n",
    "    def greet(self):\n",
    "        self.value += 1\n",
    "        return f\"Hi user #{self.value}\"\n",
    "\n",
    "flaky_inbetween_actor = FlakyInBetweenActor.remote()\n",
    "#end::flaky_inbetween[]"
   ]
  },
  {
   "cell_type": "code",
   "execution_count": null,
   "id": "8d88e5a8",
   "metadata": {},
   "outputs": [],
   "source": [
    "import time\n",
    "results = []\n",
    "results.append(ray.get(flaky_inbetween_actor.greet.remote()))\n",
    "results.append(ray.get(flaky_inbetween_actor.greet.remote()))\n",
    "time.sleep(6) # Sleep long enough to restart\n",
    "results.append(ray.get(flaky_inbetween_actor.greet.remote()))\n",
    "results"
   ]
  },
  {
   "cell_type": "code",
   "execution_count": null,
   "id": "13875065",
   "metadata": {},
   "outputs": [],
   "source": [
    "time.sleep(6*5) # Exceed max restarts\n",
    "results.append(ray.get(flaky_inbetween_actor.greet.remote()))"
   ]
  },
  {
   "cell_type": "code",
   "execution_count": null,
   "id": "41582f80",
   "metadata": {},
   "outputs": [],
   "source": [
    "#tag::ex_use_ray_put[]\n",
    "import numpy as np\n",
    "@ray.remote\n",
    "def sup(x):\n",
    "    import random\n",
    "    import sys\n",
    "    return len(x)\n",
    "\n",
    "p = ray.put(np.array(range(0, 1000)))\n",
    "ray.get([sup.remote(p), sup.remote(p), sup.remote(p)])\n",
    "#end::ex_use_ray_put[]"
   ]
  },
  {
   "cell_type": "code",
   "execution_count": null,
   "id": "dd1b497f",
   "metadata": {},
   "outputs": [],
   "source": [
    "#tag::ex_ray_immuteable[]\n",
    "remote_array = ray.put([1])\n",
    "v = ray.get(remote_array)\n",
    "v.append(2)\n",
    "print(v)\n",
    "print(ray.get(remote_array))\n",
    "#end::ex_ray_immuteable[]"
   ]
  },
  {
   "cell_type": "code",
   "execution_count": null,
   "id": "7b67b33b",
   "metadata": {},
   "outputs": [],
   "source": [
    "#tag::placement_group_imports[]\n",
    "from ray.util.placement_group import (\n",
    "    placement_group,\n",
    "    placement_group_table,\n",
    "    remove_placement_group\n",
    ")\n",
    "#end::placement_group_imports[]"
   ]
  },
  {
   "cell_type": "code",
   "execution_count": null,
   "id": "4d4a9d58",
   "metadata": {},
   "outputs": [],
   "source": [
    "@ray.remote\n",
    "def remote_fun(x):\n",
    "    return x"
   ]
  },
  {
   "cell_type": "code",
   "execution_count": null,
   "id": "de949058",
   "metadata": {},
   "outputs": [],
   "source": [
    "#tag::placement_group[]\n",
    "# Create a placement group.\n",
    "cpu_bundle = {\"CPU\": 3}\n",
    "mini_cpu_bundle = {\"CPU\": 1}\n",
    "pg = placement_group([cpu_bundle, mini_cpu_bundle])\n",
    "ray.get(pg.ready())\n",
    "print(placement_group_table(pg))\n",
    "print(ray.available_resources())\n",
    "# Run remote_fun in cpu_bundle\n",
    "handle = remote_fun.options(placement_group=pg, placement_group_bundle_index=0).remote(1)\n",
    "#end::placement_group[]"
   ]
  },
  {
   "cell_type": "code",
   "execution_count": null,
   "id": "249b559b",
   "metadata": {},
   "outputs": [],
   "source": [
    "#tag::runtime_env_local[]\n",
    "@ray.remote(runtime_env=runtime_env)\n",
    "def sup(x):\n",
    "    from bs4 import BeautifulSoup\n",
    "#end::runtime_env_local[]"
   ]
  },
  {
   "cell_type": "code",
   "execution_count": null,
   "id": "36a128cf",
   "metadata": {},
   "outputs": [],
   "source": [
    "#tag::bring_it_together_with_fetch_and_runtime_env[]\n",
    "runtime_env = {\"pip\": [\"bs4\"]}\n",
    "\n",
    "@ray.remote\n",
    "def fetch(url: str) -> Tuple[str, str]:\n",
    "    import urllib.request\n",
    "    with urllib.request.urlopen(url) as response:\n",
    "       return (url, response.read())\n",
    "\n",
    "@ray.remote(runtime_env=runtime_env)\n",
    "def extract_title(url_text: Tuple[str, str]) -> Tuple[str, str]:\n",
    "    from bs4 import BeautifulSoup\n",
    "    html = url_text[1]\n",
    "    soup = BeautifulSoup(html, 'html.parser')\n",
    "    return (url_text[0], soup.find('title').get_text())\n",
    "\n",
    "#tag::pg_ex[]\n",
    "# Pin the remote function inside the placement group to re-use the spammers URL fetch\n",
    "# note: you can't specify placement_group_bundle_index here, to use that you need to use\n",
    "# .options\n",
    "@ray.remote(placement_group=pg)\n",
    "def has_spam(site_text: Tuple[str, str]) -> Tuple[str, bool]:\n",
    "    # Open the list of spammers or download it\n",
    "    spammers_url = \"https://raw.githubusercontent.com/matomo-org/referrer-spam-list/master/spammers.txt\"\n",
    "    spammers = []\n",
    "    try:\n",
    "        with open(\"spammers.txt\", \"r\") as spammers_file:\n",
    "            spammers = spammers_file.readlines()\n",
    "    except:\n",
    "        import urllib.request\n",
    "        with urllib.request.urlopen(spammers_url) as response:\n",
    "            with open(\"spammers.txt\", \"w\") as spammers_file:\n",
    "                spammers = response.text.split(\"\\n\")\n",
    "                spammers_file.writelines(spammers)\n",
    "    for s in spammers:\n",
    "        if s in site_text[1]:\n",
    "            return True\n",
    "    return False\n",
    "#end::pg_ex[]        \n",
    "\n",
    "urls = [\"http://www.holdenkarau.com\", \"http://www.google.com\"]\n",
    "# Turn this into a list since we are consuming it twice downstream.\n",
    "site_futures = list(map(lambda url: fetch.remote(url), urls))\n",
    "info_futures = map(lambda pf: extract_title.remote(pf), site_futures)\n",
    "spammer_futures = map(lambda pf: has_spam.remote(pf), site_futures)\n",
    "\n",
    "not_ready = list(info_futures)\n",
    "not_ready.extend(spammer_futures)\n",
    "while len(not_ready) > 0:\n",
    "    ready, not_ready = ray.wait(not_ready, num_returns = 1)\n",
    "    if len(ready) < 1:\n",
    "        raise Exception(\"Error fetching futures\")\n",
    "    print(ray.get(ready))\n",
    "#end::bring_it_together_with_fetch_and_runtime_env[]"
   ]
  },
  {
   "cell_type": "code",
   "execution_count": null,
   "id": "02a32786",
   "metadata": {},
   "outputs": [],
   "source": []
  },
  {
   "cell_type": "code",
   "execution_count": null,
   "id": "c509f81f-725a-4fff-8a60-4fe79aba4766",
   "metadata": {},
   "outputs": [],
   "source": []
  },
  {
   "cell_type": "code",
   "execution_count": null,
   "id": "ea775b93-c08c-4ecd-9c54-977bd50e75c7",
   "metadata": {},
   "outputs": [],
   "source": []
  }
 ],
 "metadata": {
  "kernelspec": {
   "display_name": "Python 3 (ipykernel)",
   "language": "python",
   "name": "python3"
  },
  "language_info": {
   "codemirror_mode": {
    "name": "ipython",
    "version": 3
   },
   "file_extension": ".py",
   "mimetype": "text/x-python",
   "name": "python",
   "nbconvert_exporter": "python",
   "pygments_lexer": "ipython3",
   "version": "3.8.12"
  }
 },
 "nbformat": 4,
 "nbformat_minor": 5
}
