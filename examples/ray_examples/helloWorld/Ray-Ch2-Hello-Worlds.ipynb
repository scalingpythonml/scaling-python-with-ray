{
 "cells": [
  {
   "cell_type": "code",
   "execution_count": null,
   "id": "88e09c12",
   "metadata": {},
   "outputs": [],
   "source": [
    "# Make sure were on ray 1.9\n",
    "from ray.data.grouped_dataset import GroupedDataset"
   ]
  },
  {
   "cell_type": "code",
   "execution_count": null,
   "id": "e671ece8",
   "metadata": {},
   "outputs": [],
   "source": [
    "#tag::start-ray-local[]\n",
    "import ray\n",
    "ray.init(num_cpus=20) # In theory auto sensed, in practice... eh\n",
    "#end::start-ray-local[]"
   ]
  },
  {
   "cell_type": "code",
   "execution_count": null,
   "id": "3a7c763c",
   "metadata": {},
   "outputs": [],
   "source": [
    "#tag::local_fun[]\n",
    "def hi():\n",
    "    import os\n",
    "    import socket\n",
    "    return f\"Running on {socket.gethostname()} in pid {os.getpid()}\"\n",
    "#end::local_fun[]"
   ]
  },
  {
   "cell_type": "code",
   "execution_count": null,
   "id": "fcd50fcd",
   "metadata": {},
   "outputs": [],
   "source": [
    "hi()"
   ]
  },
  {
   "cell_type": "code",
   "execution_count": null,
   "id": "06bc23c4",
   "metadata": {},
   "outputs": [],
   "source": [
    "#tag::remote_fun[]\n",
    "@ray.remote\n",
    "def remote_hi():\n",
    "    import os\n",
    "    import socket\n",
    "    return f\"Running on {socket.gethostname()} in pid {os.getpid()}\"\n",
    "future = remote_hi.remote()\n",
    "ray.get(future)\n",
    "#end::remote_fun[]"
   ]
  },
  {
   "cell_type": "code",
   "execution_count": null,
   "id": "496917f8",
   "metadata": {},
   "outputs": [],
   "source": [
    "#tag::sleepy_task_hello_world[]\n",
    "import timeit\n",
    "\n",
    "def slow_task(x):\n",
    "    import time\n",
    "    time.sleep(2) # Do something sciency/business\n",
    "    return x\n",
    "\n",
    "@ray.remote\n",
    "def remote_task(x):\n",
    "    return slow_task(x)\n",
    "\n",
    "things = range(10)\n",
    "\n",
    "very_slow_result = map(slow_task, things)\n",
    "slowish_result = map(lambda x: remote_task.remote(x), things)\n",
    "\n",
    "slow_time = timeit.timeit(lambda: list(very_slow_result), number=1)\n",
    "fast_time = timeit.timeit(lambda: list(ray.get(list(slowish_result))), number=1)\n",
    "print(f\"In sequence {slow_time}, in parallel {fast_time}\")\n",
    "#end::sleepy_task_hello_world[]"
   ]
  },
  {
   "cell_type": "code",
   "execution_count": null,
   "id": "1c68c1f1",
   "metadata": {},
   "outputs": [],
   "source": [
    "slowish_result = map(lambda x: remote_task.remote(x), things)\n",
    "ray.get(list(slowish_result))"
   ]
  },
  {
   "cell_type": "code",
   "execution_count": null,
   "id": "6dfff389",
   "metadata": {},
   "outputs": [],
   "source": [
    "# Note: if we were on a \"real\" cluster we'd have to do more magic to install it on all the nodes in the cluster.\n",
    "!pip install bs4"
   ]
  },
  {
   "cell_type": "code",
   "execution_count": null,
   "id": "9fee2750",
   "metadata": {},
   "outputs": [],
   "source": [
    "#tag::mini_crawl_task[]\n",
    "@ray.remote\n",
    "def crawl(url, depth=0, maxdepth=1, maxlinks=4):\n",
    "    links = []\n",
    "    link_futures = []\n",
    "    import requests\n",
    "    from bs4 import BeautifulSoup\n",
    "    try:\n",
    "        f = requests.get(url)\n",
    "        links += [(url, f.text)]\n",
    "        if (depth > maxdepth):\n",
    "            return links # base case\n",
    "        soup = BeautifulSoup(f.text, 'html.parser')\n",
    "        c = 0\n",
    "        for link in soup.find_all('a'):\n",
    "            try:\n",
    "                c = c + 1\n",
    "                link_futures += [crawl.remote(link[\"href\"], depth=(depth+1), maxdepth=maxdepth)]\n",
    "                # Don't branch too much were still in local mode and the web is big\n",
    "                if c > maxlinks:\n",
    "                    break\n",
    "            except:\n",
    "                pass\n",
    "        for r in ray.get(link_futures):\n",
    "            links += r\n",
    "        return links\n",
    "    except requests.exceptions.InvalidSchema:\n",
    "        return [] # Skip non-web links\n",
    "    except requests.exceptions.MissingSchema:\n",
    "        return [] # Skip non-web links\n",
    "\n",
    "ray.get(crawl.remote(\"http://holdenkarau.com/\"))\n",
    "#end::mini_crawl_task[]"
   ]
  },
  {
   "cell_type": "code",
   "execution_count": null,
   "id": "7e941ecf",
   "metadata": {},
   "outputs": [],
   "source": [
    "#tag::actor[]\n",
    "@ray.remote\n",
    "class HelloWorld(object):\n",
    "    def __init__(self):\n",
    "        self.value = 0\n",
    "    def greet(self):\n",
    "        self.value += 1\n",
    "        return f\"Hi user #{self.value}\"\n",
    "\n",
    "# Make an instance of the actor\n",
    "hello_actor = HelloWorld.remote()\n",
    "\n",
    "# Call the actor\n",
    "print(ray.get(hello_actor.greet.remote()))\n",
    "print(ray.get(hello_actor.greet.remote()))\n",
    "#end::actor[]\n"
   ]
  },
  {
   "cell_type": "code",
   "execution_count": null,
   "id": "91b55d4a",
   "metadata": {},
   "outputs": [],
   "source": [
    "#tag::ds[]\n",
    "# Create a Dataset of URLS objects. We could also load this from a text file with ray.data.read_text()\n",
    "urls = ray.data.from_items([\n",
    "    \"https://github.com/scalingpythonml/scalingpythonml\",\n",
    "    \"https://github.com/ray-project/ray\"])\n",
    "\n",
    "def fetch_page(url):\n",
    "    import requests\n",
    "    f = requests.get(url)\n",
    "    return f.text\n",
    "\n",
    "pages = urls.map(fetch_page)\n",
    "# Look at a page to make sure it worked\n",
    "pages.take(1)\n",
    "#end:ds[]"
   ]
  },
  {
   "cell_type": "code",
   "execution_count": null,
   "id": "5c861907",
   "metadata": {},
   "outputs": [],
   "source": [
    "#tag::ray_wordcount_on_ds[]\n",
    "words = pages.flat_map(lambda x: x.split(\" \")).map(lambda w: (w, 1))\n",
    "grouped_words = words.groupby(lambda wc: wc[0])\n",
    "#end::ray_wordcount_on_ds[]"
   ]
  },
  {
   "cell_type": "code",
   "execution_count": null,
   "id": "b0729f13",
   "metadata": {},
   "outputs": [],
   "source": [
    "word_counts = grouped_words.count()"
   ]
  },
  {
   "cell_type": "code",
   "execution_count": null,
   "id": "e824771c",
   "metadata": {},
   "outputs": [],
   "source": [
    "word_counts.show()"
   ]
  }
 ],
 "metadata": {
  "kernelspec": {
   "display_name": "Python 3 (ipykernel)",
   "language": "python",
   "name": "python3"
  },
  "language_info": {
   "codemirror_mode": {
    "name": "ipython",
    "version": 3
   },
   "file_extension": ".py",
   "mimetype": "text/x-python",
   "name": "python",
   "nbconvert_exporter": "python",
   "pygments_lexer": "ipython3",
   "version": "3.8.12"
  }
 },
 "nbformat": 4,
 "nbformat_minor": 5
}
