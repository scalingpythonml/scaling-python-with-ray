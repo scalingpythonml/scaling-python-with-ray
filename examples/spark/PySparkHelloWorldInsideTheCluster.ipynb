{
 "cells": [
  {
   "cell_type": "code",
   "execution_count": 1,
   "metadata": {},
   "outputs": [],
   "source": [
    "#tag::sparkImports[]\n",
    "from pyspark import *\n",
    "from pyspark.context import *\n",
    "from pyspark.conf import *\n",
    "#end::sparkImports[]"
   ]
  },
  {
   "cell_type": "code",
   "execution_count": 2,
   "metadata": {},
   "outputs": [],
   "source": [
    "#tag::makeSparkConf[]\n",
    "conf = (SparkConf().setMaster(\"k8s://https://kubernetes.default\")\n",
    "#end::makeSparkConf[]\n",
    "    .set(\"spark.executor.instances\", \"2\")\n",
    "#tag::configureContainer[]\n",
    "    .set(\"spark.kubernetes.container.image\", \"holdenk/spark-py:v3.0.1.2\")\n",
    "#end::configureContainer[]\n",
    "#tag::configureService[]\n",
    "    .set(\"spark.driver.port\", \"2222\") # Needs to match svc\n",
    "    .set(\"spark.driver.blockManager.port\", \"7777\")\n",
    "    .set(\"spark.driver.host\", \"driver-service.jhub.svc.cluster.local\") # Needs to match svc\n",
    "    .set(\"spark.driver.bindAddress\", \"0.0.0.0\") #  Otherwise tries to bind to svc IP, will fail\n",
    "#end::configureService[]\n",
    "#tag::configureNamespace[]\n",
    "    .set(\"spark.kubernetes.namespace\", \"spark\")\n",
    "#end::configureNamespace[]\n",
    "#tag::configureSparkAppName[]\n",
    "    .set(\"spark.app.name\", \"PySparkHelloWorldInsideTheCluster\")\n",
    "#end::configureSparkAppName[]\n",
    "    )"
   ]
  },
  {
   "cell_type": "code",
   "execution_count": 3,
   "metadata": {},
   "outputs": [],
   "source": [
    "#tag::makeSparkWithConf[]\n",
    "sc = SparkContext(conf=conf)\n",
    "#end::makeSparkWithConf[]"
   ]
  },
  {
   "cell_type": "code",
   "execution_count": 4,
   "metadata": {},
   "outputs": [],
   "source": [
    "rdd = sc.parallelize(range(100))"
   ]
  },
  {
   "cell_type": "code",
   "execution_count": 5,
   "metadata": {},
   "outputs": [
    {
     "data": {
      "text/plain": [
       "4950"
      ]
     },
     "execution_count": 5,
     "metadata": {},
     "output_type": "execute_result"
    }
   ],
   "source": [
    "rdd.sum()"
   ]
  },
  {
   "cell_type": "code",
   "execution_count": null,
   "metadata": {},
   "outputs": [],
   "source": []
  }
 ],
 "metadata": {
  "kernelspec": {
   "display_name": "Python 3",
   "language": "python",
   "name": "python3"
  },
  "language_info": {
   "codemirror_mode": {
    "name": "ipython",
    "version": 3
   },
   "file_extension": ".py",
   "mimetype": "text/x-python",
   "name": "python",
   "nbconvert_exporter": "python",
   "pygments_lexer": "ipython3",
   "version": "3.8.6"
  }
 },
 "nbformat": 4,
 "nbformat_minor": 4
}
