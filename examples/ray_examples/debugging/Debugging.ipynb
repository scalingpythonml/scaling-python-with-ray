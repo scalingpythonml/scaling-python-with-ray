{
 "cells": [
  {
   "cell_type": "code",
   "execution_count": 1,
   "id": "87d23ebc-11bd-4ef0-a6d8-3335f2412652",
   "metadata": {},
   "outputs": [],
   "source": [
    "import ray\n",
    "from multiprocessing import Pool"
   ]
  },
  {
   "cell_type": "code",
   "execution_count": 2,
   "id": "f5e13724-565e-496e-935b-d44ba00375f8",
   "metadata": {},
   "outputs": [
    {
     "name": "stdout",
     "output_type": "stream",
     "text": [
      "=========================================================================\n",
      "Checking Serializability of <function special_business at 0x7f1362e2bd30>\n",
      "=========================================================================\n",
      "!!! FAIL serialization: pool objects cannot be passed between processes or pickled\n",
      "Detected 1 global variables. Checking serializability...\n",
      "    Serializing 'pool' <multiprocessing.pool.Pool state=RUN pool_size=5>...\n",
      "    !!! FAIL serialization: pool objects cannot be passed between processes or pickled\n",
      "        Serializing 'Process' <function Pool.Process at 0x7f1362e1e940>...\n",
      "        Serializing '_get_tasks' <function Pool._get_tasks at 0x7f1362e1b820>...\n",
      "        Serializing '_get_worker_sentinels' <function Pool._get_worker_sentinels at 0x7f1362e1ec10>...\n",
      "        Serializing '_handle_results' <function Pool._handle_results at 0x7f1362e1b790>...\n",
      "        Serializing '_handle_tasks' <function Pool._handle_tasks at 0x7f1362e1b700>...\n",
      "        Serializing '_help_stuff_finish' <function Pool._help_stuff_finish at 0x7f1362e1baf0>...\n",
      "        Serializing '_join_exited_workers' <function Pool._join_exited_workers at 0x7f1362e1eca0>...\n",
      "        Serializing '_maintain_pool' <function Pool._maintain_pool at 0x7f1362e1ee50>...\n",
      "        Serializing '_repopulate_pool_static' <function Pool._repopulate_pool_static at 0x7f1362e1edc0>...\n",
      "        Serializing '_wait_for_updates' <function Pool._wait_for_updates at 0x7f1362e1b5e0>...\n",
      "        Serializing 'Process' <function Pool.Process at 0x7f1362e1e940>...\n",
      "        Serializing '_cache' {}...\n",
      "        !!! FAIL serialization: SimpleQueue objects should only be shared between processes through inheritance\n",
      "            Serializing 'notifier' <multiprocessing.queues.SimpleQueue object at 0x7f1362e5df70>...\n",
      "            !!! FAIL serialization: SimpleQueue objects should only be shared between processes through inheritance\n",
      "=========================================================================\n",
      "Variable: \n",
      "\n",
      "\tFailTuple(notifier [obj=<multiprocessing.queues.SimpleQueue object at 0x7f1362e5df70>, parent={}])\n",
      "\n",
      "was found to be non-serializable. There may be multiple other undetected variables that were non-serializable. \n",
      "Consider either removing the instantiation/imports of these variables or moving the instantiation into the scope of the function/class. \n",
      "If you have any suggestions on how to improve this error message, please reach out to the Ray developers on github.com/ray-project/ray/issues/\n",
      "=========================================================================\n"
     ]
    },
    {
     "data": {
      "text/plain": [
       "(False,\n",
       " {FailTuple(notifier [obj=<multiprocessing.queues.SimpleQueue object at 0x7f1362e5df70>, parent={}])})"
      ]
     },
     "execution_count": 2,
     "metadata": {},
     "output_type": "execute_result"
    }
   ],
   "source": [
    "#tag::bad_ser_example[]\n",
    "pool = Pool(5)\n",
    "\n",
    "def special_business(x):\n",
    "    def inc(y):\n",
    "        return y + x\n",
    "    return pool.map(inc, range(0, x))\n",
    "ray.util.inspect_serializability(special_business)\n",
    "#end::bad_ser_example[]"
   ]
  },
  {
   "cell_type": "code",
   "execution_count": 3,
   "id": "7c9d40bb-79ec-4f3f-96ca-b35e5c3ccead",
   "metadata": {},
   "outputs": [],
   "source": [
    "#tag::ex_pydev_charm[]\n",
    "@ray.remote\n",
    "class Bloop():\n",
    "    \n",
    "    def __init__(self, dev_host):\n",
    "        import pydevd_pycharm\n",
    "        # Requires ability to connect to dev from prod.\n",
    "        try:\n",
    "            pydevd_pycharm.settrace(dev_host, port=7779, stdoutToServer=True, stderrToServer=True)\n",
    "        except ConnectionRefusedError:\n",
    "            print(\"Skipping debug\")\n",
    "            pass\n",
    "    \n",
    "    def dothing(x):\n",
    "        return x + 1\n",
    "#end::ex_pydev_charm[]"
   ]
  },
  {
   "cell_type": "code",
   "execution_count": 4,
   "id": "c6d0a0af-b0a5-43b1-a8d5-650b6c23c7db",
   "metadata": {},
   "outputs": [
    {
     "name": "stdout",
     "output_type": "stream",
     "text": [
      "Usage stats collection is enabled. To disable this, run the following command: `ray disable-usage-stats` before starting Ray. See https://docs.ray.io/en/master/cluster/usage-stats.html for more details.\n"
     ]
    },
    {
     "name": "stderr",
     "output_type": "stream",
     "text": [
      "2022-09-27 08:40:18,875\tINFO worker.py:1510 -- Started a local Ray instance. View the dashboard at http://127.0.0.1:8265 \n",
      "(Bloop pid=1146622) 0.05s - Could not connect to localhost: 7779\n"
     ]
    },
    {
     "name": "stdout",
     "output_type": "stream",
     "text": [
      "(Bloop pid=1146622) Skipping debug\n"
     ]
    },
    {
     "name": "stderr",
     "output_type": "stream",
     "text": [
      "(Bloop pid=1146622) Traceback (most recent call last):\n",
      "(Bloop pid=1146622)   File \"/home/holden/.local/lib/python3.8/site-packages/_pydevd_bundle/pydevd_comm.py\", line 507, in start_client\n",
      "(Bloop pid=1146622)     s.connect((host, port))\n",
      "(Bloop pid=1146622) ConnectionRefusedError: [Errno 111] Connection refused\n"
     ]
    }
   ],
   "source": [
    "bloop_actor = Bloop.remote(\"localhost\")"
   ]
  },
  {
   "cell_type": "code",
   "execution_count": null,
   "id": "5270c177-955d-4a44-95cb-882bf3ddee32",
   "metadata": {},
   "outputs": [],
   "source": []
  }
 ],
 "metadata": {
  "kernelspec": {
   "display_name": "Python 3 (ipykernel)",
   "language": "python",
   "name": "python3"
  },
  "language_info": {
   "codemirror_mode": {
    "name": "ipython",
    "version": 3
   },
   "file_extension": ".py",
   "mimetype": "text/x-python",
   "name": "python",
   "nbconvert_exporter": "python",
   "pygments_lexer": "ipython3",
   "version": "3.8.5"
  }
 },
 "nbformat": 4,
 "nbformat_minor": 5
}
