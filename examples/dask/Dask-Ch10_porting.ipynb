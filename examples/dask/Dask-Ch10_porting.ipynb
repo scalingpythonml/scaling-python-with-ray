{
 "cells": [
  {
   "cell_type": "code",
   "execution_count": null,
   "id": "62cb0c98-55f7-4ade-811e-331b206e02e1",
   "metadata": {
    "tags": []
   },
   "outputs": [],
   "source": [
    "!pip install dask-yarn"
   ]
  },
  {
   "cell_type": "code",
   "execution_count": null,
   "id": "11bed8c3-0c59-4841-9c89-b9e280e4f507",
   "metadata": {
    "tags": []
   },
   "outputs": [],
   "source": [
    "!conda install -c conda-forge dask-yarn\n",
    "!conda create -n my-env dask-yarn scikit-learn"
   ]
  },
  {
   "cell_type": "code",
   "execution_count": null,
   "id": "38431c4f-85c6-4ee2-99c3-6afa9e5e0052",
   "metadata": {},
   "outputs": [],
   "source": [
    "# !conda create -n my-env dask-yarn scikit-learn"
   ]
  },
  {
   "cell_type": "code",
   "execution_count": null,
   "id": "54efeb09-343e-440f-9bf9-8bf9a24b1cbe",
   "metadata": {},
   "outputs": [],
   "source": [
    "# !conda activate my-env"
   ]
  },
  {
   "cell_type": "code",
   "execution_count": null,
   "id": "7d258eb3-a5be-4aa3-b623-53fe95f242a1",
   "metadata": {},
   "outputs": [],
   "source": [
    "import sys\n",
    "sys.version"
   ]
  },
  {
   "cell_type": "code",
   "execution_count": null,
   "id": "b9ca8546",
   "metadata": {},
   "outputs": [],
   "source": []
  },
  {
   "cell_type": "code",
   "execution_count": null,
   "id": "fa3458ac-f0bd-4a6b-a5d3-b52a12ec9b33",
   "metadata": {},
   "outputs": [],
   "source": [
    "\n"
   ]
  },
  {
   "cell_type": "code",
   "execution_count": null,
   "id": "ae2044d7-97b2-45af-916f-3a39da437d45",
   "metadata": {},
   "outputs": [],
   "source": [
    "#tag::ex_yarn_deployment[]\n",
    "\n",
    "from dask_yarn import YarnCluster\n",
    "from dask.distributed import Client\n",
    "\n",
    "# Create a cluster where each worker has two cores and eight GiB of memory\n",
    "cluster = YarnCluster(\n",
    "    environment='your_environment.tar.gz',\n",
    "    worker_vcores=2,\n",
    "    worker_memory=\"4GiB\")\n",
    "\n",
    "# Scale out to num_workers such workers\n",
    "cluster.scale(num_workers)\n",
    "\n",
    "# Connect to the cluster\n",
    "client = Client(cluster)\n",
    "#end::ex_yarn_deployment"
   ]
  },
  {
   "cell_type": "code",
   "execution_count": null,
   "id": "33723bd3",
   "metadata": {
    "tags": []
   },
   "outputs": [],
   "source": []
  },
  {
   "cell_type": "code",
   "execution_count": null,
   "id": "c49b8049",
   "metadata": {},
   "outputs": [],
   "source": [
    "#tag::ex_slurm_deployment[]\n",
    "from dask_jobqueue import SLURMCluster\n",
    "from dask.distributed import Client\n",
    "\n",
    "cluster = SLURMCluster(\n",
    "    queue='regular',\n",
    "    account=\"slurm_caccount\",\n",
    "    cores=24,\n",
    "    memory=\"500 GB\"\n",
    ")\n",
    "cluster.scale(jobs=SLURM_JOB_COUNT)  # ask for N jobs from SLURM\n",
    "\n",
    "client = Client(cluster)\n",
    "\n",
    "cluster.adapt(minimum_jobs=10, maximum_jobs=100)  # auto-scale between 10 and 100 jobs\n",
    "cluster.adapt(maximum_memory=\"10 TB\")  # or use core/memory limits\n",
    "#end::ex_slurm_deployment"
   ]
  },
  {
   "cell_type": "code",
   "execution_count": null,
   "id": "a90006d4",
   "metadata": {},
   "outputs": [],
   "source": []
  },
  {
   "cell_type": "code",
   "execution_count": null,
   "id": "bfbaeccc-2eec-43aa-ad25-4d71e28a6889",
   "metadata": {
    "tags": []
   },
   "outputs": [],
   "source": [
    "#tag::ex_s3_minio_rw[]\n",
    "import s3fs\n",
    "import pyarrow as pa\n",
    "import pyarrow.parquet as pq\n",
    "\n",
    "minio_storage_options = {\n",
    "    \"key\": MINIO_KEY,\n",
    "    \"secret\": MINIO_SECRET,\n",
    "    \"client_kwargs\": {\n",
    "        \"endpoint_url\": \"http://ENDPOINT_URL\",\n",
    "        \"region_name\": 'us-east-1'\n",
    "    },\n",
    "    \"config_kwargs\": {\"s3\": {\"signature_version\": 's3v4'}},\n",
    "}\n",
    "\n",
    "df.to_parquet(f's3://s3_destination/{filename}',\n",
    "              compression=\"gzip\",\n",
    "              storage_options=minio_storage_options,\n",
    "              engine = \"fastparquet\")\n",
    "\n",
    "\n",
    "df = dd.read_parquet(\n",
    "    f's3://s3_source/', \n",
    "    storage_options=minio_storage_options, \n",
    "    engine=\"pyarrow\"\n",
    ")\n",
    "#end::ex_s3_minio_rw"
   ]
  },
  {
   "cell_type": "code",
   "execution_count": null,
   "id": "3a057903-bd18-417a-bdfd-8cb717b62f47",
   "metadata": {},
   "outputs": [],
   "source": []
  },
  {
   "cell_type": "code",
   "execution_count": null,
   "id": "17bcd52e-4525-48dd-97af-ff91575506bd",
   "metadata": {
    "tags": []
   },
   "outputs": [],
   "source": [
    "!pip install fugue"
   ]
  },
  {
   "cell_type": "code",
   "execution_count": null,
   "id": "d18a4cea-93dd-45cc-a93a-617e2dc4c7db",
   "metadata": {},
   "outputs": [],
   "source": [
    "! pip install  antlr==4.10.1\n"
   ]
  },
  {
   "cell_type": "code",
   "execution_count": null,
   "id": "60786e3e-a96b-49ef-a32c-0eb5e176ea50",
   "metadata": {
    "tags": []
   },
   "outputs": [],
   "source": [
    "from fugue_notebook import setup\n",
    "try:\n",
    "    setup()\n",
    "except:\n",
    "    pass"
   ]
  },
  {
   "cell_type": "code",
   "execution_count": null,
   "id": "777df740-04e4-4bd0-96b0-4e07cb6ebe93",
   "metadata": {},
   "outputs": [],
   "source": [
    "from fugue import transform"
   ]
  },
  {
   "cell_type": "code",
   "execution_count": null,
   "id": "d50da5fe-fccd-4aac-8db4-393546f73b8e",
   "metadata": {
    "tags": []
   },
   "outputs": [],
   "source": [
    "!pip install fugue[sql]"
   ]
  },
  {
   "cell_type": "code",
   "execution_count": null,
   "id": "3d368841-daf0-473d-b7c0-f1b44e8e312e",
   "metadata": {
    "tags": []
   },
   "outputs": [],
   "source": [
    "!pip install s3fs"
   ]
  },
  {
   "cell_type": "code",
   "execution_count": null,
   "id": "19c5e5bf-ecd2-4960-a59b-527777bbf37c",
   "metadata": {},
   "outputs": [],
   "source": [
    "!conda  install aiohttp"
   ]
  },
  {
   "cell_type": "code",
   "execution_count": null,
   "id": "2b9299da-4d36-43d0-80f6-e0496e812e1b",
   "metadata": {},
   "outputs": [],
   "source": [
    "# !conda install requests\n",
    "# !pip install antlr4-python3-runtime\n",
    "# !pip install antlr4-python3-runtime==4.10\n",
    "# !pip install antlr4-python3-runtime==4.11.0\n",
    "# !pip install antlr4-python3-runtime==4.9.3\n",
    "# !pip install antlr4-python3-runtime==4.9.2\n",
    "# !pip install antlr4-python3-runtime==4.9.1\n",
    "# !pip install antlr4-python3-runtime==4.9\n",
    "!pip install antlr4-python3-runtime==4.8"
   ]
  },
  {
   "cell_type": "code",
   "execution_count": null,
   "id": "171f6b52-2b99-467e-905d-b918a54e791a",
   "metadata": {},
   "outputs": [],
   "source": [
    "import antlr4\n"
   ]
  },
  {
   "cell_type": "code",
   "execution_count": null,
   "id": "e50f4262-b033-449c-bb5f-47debabe4743",
   "metadata": {
    "tags": []
   },
   "outputs": [],
   "source": []
  },
  {
   "cell_type": "code",
   "execution_count": null,
   "id": "d1599293-36a5-4cdb-a700-07369994f293",
   "metadata": {},
   "outputs": [],
   "source": []
  },
  {
   "cell_type": "code",
   "execution_count": null,
   "id": "5f151cb0-952d-4025-b348-c299b0e36195",
   "metadata": {},
   "outputs": [],
   "source": [
    "import dask.dataframe as dd"
   ]
  },
  {
   "cell_type": "code",
   "execution_count": null,
   "id": "b998c747-8163-4264-af6c-46d8595d85f0",
   "metadata": {},
   "outputs": [],
   "source": [
    "url = 'https://d37ci6vzurychx.cloudfront.net/trip-data/yellow_tripdata_2018-01.parquet'\n",
    "df = dd.read_parquet(url)"
   ]
  },
  {
   "cell_type": "code",
   "execution_count": null,
   "id": "7b168f89-1019-41de-8266-8f5261d4f65c",
   "metadata": {},
   "outputs": [],
   "source": [
    "#tag::ex_fugue_SQL[]\n",
    "from fugue_notebook import setup\n",
    "\n",
    "setup(is_lab=True)\n",
    "\n",
    "%%fsql dask\n",
    "tempdf = SELECT VendorID, AVG(Fare_amount) AS average_fare\n",
    "           FROM ddf\n",
    "       GROUP BY VendorID\n",
    "\n",
    "  SELECT *\n",
    "    FROM tempdf\n",
    "ORDER BY average_fare DESC\n",
    "   LIMIT 5\n",
    "   PRINT\n",
    "#end::ex_fugue_SQL"
   ]
  },
  {
   "cell_type": "code",
   "execution_count": null,
   "id": "b71ab91b-cb1a-49c4-894f-c15cb6ad19cb",
   "metadata": {},
   "outputs": [],
   "source": []
  },
  {
   "cell_type": "code",
   "execution_count": null,
   "id": "748743e1-a049-47a0-8fac-2e824e102c81",
   "metadata": {},
   "outputs": [],
   "source": []
  },
  {
   "cell_type": "code",
   "execution_count": null,
   "id": "f91c74e3-2f52-4641-aa02-fffd2bd7091b",
   "metadata": {},
   "outputs": [],
   "source": []
  },
  {
   "cell_type": "code",
   "execution_count": null,
   "id": "52376215-6247-499d-b604-55c3235f12ff",
   "metadata": {},
   "outputs": [],
   "source": []
  }
 ],
 "metadata": {
  "kernelspec": {
   "display_name": "Python 3 (ipykernel)",
   "language": "python",
   "name": "python3"
  },
  "language_info": {
   "codemirror_mode": {
    "name": "ipython",
    "version": 3
   },
   "file_extension": ".py",
   "mimetype": "text/x-python",
   "name": "python",
   "nbconvert_exporter": "python",
   "pygments_lexer": "ipython3",
   "version": "3.9.12"
  }
 },
 "nbformat": 4,
 "nbformat_minor": 5
}
