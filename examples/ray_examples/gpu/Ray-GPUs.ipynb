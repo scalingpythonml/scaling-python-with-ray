{
 "cells": [
  {
   "cell_type": "code",
   "execution_count": null,
   "id": "15333811-fb55-4fa9-8bc0-fc0a204214c9",
   "metadata": {},
   "outputs": [],
   "source": [
    "# Ray GPUs local\n",
    "#tag::start-ray-gpu[]\n",
    "import ray\n",
    "ray.init(num_cpus=20, num_gpus=1)\n",
    "#end::start-ray-gpu[]"
   ]
  },
  {
   "cell_type": "code",
   "execution_count": null,
   "id": "193b9ec2-a86a-4394-9f72-034e907b721d",
   "metadata": {},
   "outputs": [],
   "source": [
    "#tag::remote_gpu[]\n",
    "# Request a full GPU, like CPUs we can request fractional\n",
    "@ray.remote(num_gpus=1)\n",
    "def do_serious_work():\n",
    "#end::remote_gpu[]\n",
    "    return hi"
   ]
  },
  {
   "cell_type": "code",
   "execution_count": null,
   "id": "423de239-5cce-4fc4-adc9-da7cd3be6a01",
   "metadata": {},
   "outputs": [],
   "source": [
    "#tag::remote_gpu[]\n",
    "# Restart entire worker after each call\n",
    "@ray.remote(num_gpus=1, max_calls=1)\n",
    "def do_serious_work():\n",
    "#end::remote_gpu[]\n",
    "    return hi"
   ]
  },
  {
   "cell_type": "code",
   "execution_count": null,
   "id": "0804434b-953a-491e-a57c-432aa19cef1e",
   "metadata": {},
   "outputs": [],
   "source": [
    "#tag::gpu_fallback[]\n",
    "\n",
    "# Function that requests a GPU\n",
    "@ray.remote(num_gpus=1)\n",
    "def do_i_have_gpus():\n",
    "    return True\n",
    "\n",
    "# Give it at most 4 minutes to see if we can get a GPU\n",
    "# We want to give the auto-scaler some time to see if it can spin up\n",
    "# a GPU node for us.\n",
    "futures = [do_i_have_gpus.remote()]\n",
    "ready_futures, rest_futures = ray.wait(futures, timeout=240)\n",
    "\n",
    "resources = {\"num_cpus\": 1}\n",
    "# If we have a ready future then we have a GPU node in our cluster\n",
    "if ready_futures:\n",
    "    resources[\"num_gpus\"] =1\n",
    "\n",
    "# \"splat\" the resources\n",
    "@ray.remote(** resources)\n",
    "def optional_gpu_task():\n",
    "#end::gpu_fallback[]\n",
    "    return \"k\""
   ]
  },
  {
   "cell_type": "code",
   "execution_count": null,
   "id": "ba936ef9-ae4c-4419-bae6-06addd330c94",
   "metadata": {},
   "outputs": [],
   "source": [
    "not ready_futures"
   ]
  },
  {
   "cell_type": "code",
   "execution_count": null,
   "id": "1905e392-8183-4d56-b532-57b2ecec565e",
   "metadata": {},
   "outputs": [],
   "source": [
    "resources"
   ]
  },
  {
   "cell_type": "code",
   "execution_count": null,
   "id": "9cc7cb40-5bdd-450e-bb1f-778141b863b0",
   "metadata": {},
   "outputs": [],
   "source": [
    "#tag::numba_ex[]\n",
    "from numba import cuda, float32\n",
    "\n",
    "# CUDA kernel\n",
    "@cuda.jit\n",
    "def mul_two(io_array):\n",
    "    pos = cuda.grid(1)\n",
    "    if pos < io_array.size:\n",
    "        io_array[pos] *= 2 # do the computation\n",
    "        \n",
    "@ray.remote\n",
    "def remote_mul(input_array):\n",
    "    # This implicitly transfers the array into the GPU and back which is not free\n",
    "    return mul_two(input_array)\n",
    "#end::numba_ex[]"
   ]
  }
 ],
 "metadata": {
  "kernelspec": {
   "display_name": "Python 3 (ipykernel)",
   "language": "python",
   "name": "python3"
  },
  "language_info": {
   "codemirror_mode": {
    "name": "ipython",
    "version": 3
   },
   "file_extension": ".py",
   "mimetype": "text/x-python",
   "name": "python",
   "nbconvert_exporter": "python",
   "pygments_lexer": "ipython3",
   "version": "3.8.5"
  }
 },
 "nbformat": 4,
 "nbformat_minor": 5
}
