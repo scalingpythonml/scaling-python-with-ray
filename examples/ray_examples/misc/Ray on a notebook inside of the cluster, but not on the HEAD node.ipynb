{
 "cells": [
  {
   "cell_type": "code",
   "execution_count": 1,
   "metadata": {},
   "outputs": [],
   "source": [
    "from collections import Counter\n",
    "import sys\n",
    "import time\n",
    "import ray"
   ]
  },
  {
   "cell_type": "code",
   "execution_count": 2,
   "metadata": {},
   "outputs": [
    {
     "data": {
      "text/plain": [
       "'example-cluster-ray-head.ray.svc'"
      ]
     },
     "execution_count": 2,
     "metadata": {},
     "output_type": "execute_result"
    }
   ],
   "source": [
    "# Connect to the ray cluster\n",
    "CLUSTER_NAME = \"example-cluster\"\n",
    "NAMESPACE = \"ray\"\n",
    "PORT=10001\n",
    "# The dns name is based off of the service name which is [cluster]-ray-head & namespace\n",
    "dns_name = f\"{CLUSTER_NAME}-ray-head.{NAMESPACE}.svc\"\n",
    "ray.util.connect(f\"{dns_name}:{PORT}\")"
   ]
  },
  {
   "cell_type": "code",
   "execution_count": 3,
   "metadata": {},
   "outputs": [
    {
     "data": {
      "text/plain": [
       "{'num_clients': 1,\n",
       " 'python_version': '3.8.6',\n",
       " 'ray_version': '2.0.0.dev0',\n",
       " 'ray_commit': '{{RAY_COMMIT_SHA}}',\n",
       " 'protocol_version': '2020-02-01'}"
      ]
     },
     "execution_count": 3,
     "metadata": {},
     "output_type": "execute_result"
    }
   ],
   "source": []
  },
  {
   "cell_type": "code",
   "execution_count": 4,
   "metadata": {},
   "outputs": [],
   "source": [
    "@ray.remote\n",
    "def gethostname(x):\n",
    "    import platform\n",
    "    import time\n",
    "    time.sleep(0.01)\n",
    "    return x + (platform.node(), )"
   ]
  },
  {
   "cell_type": "code",
   "execution_count": 5,
   "metadata": {},
   "outputs": [
    {
     "name": "stdout",
     "output_type": "stream",
     "text": [
      "Iteration 0\n",
      "Counter({('example-cluster-ray-head-6f8pf', 'example-cluster-ray-head-6f8pf'): 100})\n",
      "Success!\n",
      "Iteration 1\n",
      "Counter({('example-cluster-ray-head-6f8pf', 'example-cluster-ray-head-6f8pf'): 100})\n",
      "Success!\n",
      "Iteration 2\n",
      "Counter({('example-cluster-ray-head-6f8pf', 'example-cluster-ray-head-6f8pf'): 100})\n",
      "Success!\n",
      "Iteration 3\n",
      "Counter({('example-cluster-ray-head-6f8pf', 'example-cluster-ray-head-6f8pf'): 100})\n",
      "Success!\n",
      "Iteration 4\n",
      "Counter({('example-cluster-ray-head-6f8pf', 'example-cluster-ray-head-6f8pf'): 100})\n",
      "Success!\n",
      "Iteration 5\n",
      "Counter({('example-cluster-ray-head-6f8pf', 'example-cluster-ray-head-6f8pf'): 100})\n",
      "Success!\n",
      "Iteration 6\n",
      "Counter({('example-cluster-ray-head-6f8pf', 'example-cluster-ray-head-6f8pf'): 100})\n",
      "Success!\n",
      "Iteration 7\n",
      "Counter({('example-cluster-ray-head-6f8pf', 'example-cluster-ray-head-6f8pf'): 100})\n",
      "Success!\n",
      "Iteration 8\n",
      "Counter({('example-cluster-ray-head-6f8pf', 'example-cluster-ray-head-6f8pf'): 100})\n",
      "Success!\n",
      "Iteration 9\n",
      "Counter({('example-cluster-ray-head-6f8pf', 'example-cluster-ray-head-6f8pf'): 100})\n",
      "Success!\n"
     ]
    }
   ],
   "source": [
    "# Check that objects can be transferred from each node to each other node.\n",
    "for i in range(10):\n",
    "    print(\"Iteration {}\".format(i))\n",
    "    results = [\n",
    "        gethostname.remote(gethostname.remote(())) for _ in range(100)\n",
    "    ]\n",
    "    print(Counter(ray.get(results)))\n",
    "\n",
    "    print(\"Success!\")\n"
   ]
  }
 ],
 "metadata": {
  "kernelspec": {
   "display_name": "Python 3",
   "language": "python",
   "name": "python3"
  },
  "language_info": {
   "codemirror_mode": {
    "name": "ipython",
    "version": 3
   },
   "file_extension": ".py",
   "mimetype": "text/x-python",
   "name": "python",
   "nbconvert_exporter": "python",
   "pygments_lexer": "ipython3",
   "version": "3.8.5"
  }
 },
 "nbformat": 4,
 "nbformat_minor": 4
}
