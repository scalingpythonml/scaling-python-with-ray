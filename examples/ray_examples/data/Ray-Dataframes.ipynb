{
 "cells": [
  {
   "cell_type": "code",
   "execution_count": null,
   "id": "bf8781c7-76d2-4ea0-b9a9-559759369d52",
   "metadata": {},
   "outputs": [],
   "source": [
    "import ray\n",
    "from typing import *"
   ]
  },
  {
   "cell_type": "code",
   "execution_count": null,
   "id": "49c82eb4-ed3e-418b-8f0d-1802239ce3a5",
   "metadata": {},
   "outputs": [],
   "source": [
    "ray.init(num_cpus=20)"
   ]
  },
  {
   "cell_type": "code",
   "execution_count": null,
   "id": "5ca33e96-469f-4548-b344-4ef0c96312dc",
   "metadata": {},
   "outputs": [],
   "source": [
    "# Note to holden - move this to the dataset chapter for showing how to integrate with remote functions\n",
    "# and talk about why.\n",
    "#tag::more_awesome_wordcount[]\n",
    "runtime_env = {\"pip\": [\"bs4\"]}\n",
    "parse_env = {\"pip\": [\"bs4\", \"nltk\"]}\n",
    "\n",
    "# Note - not remote\n",
    "def fetch(url: str) -> Tuple[str, str]:\n",
    "    import urllib.request\n",
    "    with urllib.request.urlopen(url) as response:\n",
    "       return (url, response.read())\n",
    "\n",
    "# This is remote because we want to use bs4\n",
    "@ray.remote(runtime_env=runtime_env)\n",
    "def extract_text(url_text: Tuple[str, str]) -> str:\n",
    "    from bs4 import BeautifulSoup\n",
    "    html = url_text[1]\n",
    "    return str(BeautifulSoup(html, 'html.parser').text)\n",
    "\n",
    "# This is remote because we want to use nltk\n",
    "@ray.remote(runtime_env=parse_env)\n",
    "def tokenize(text: str):\n",
    "    import nltk\n",
    "    nltk.download('punkt')\n",
    "    from nltk.tokenize import word_tokenize\n",
    "    return list(word_tokenize(text))\n",
    "\n",
    "urls = ray.data.from_items([\"http://www.holdenkarau.com\", \"http://www.google.com\"])\n",
    "\n",
    "pages = urls.map(fetch)\n",
    "# This \n",
    "page_text = pages.map(lambda r: ray.get(extract_text.remote(r)))\n",
    "words = page_text.flat_map(lambda r: ray.get(tokenize.remote(r)))\n",
    "word_count = words.groupby(lambda x: x).count()\n",
    "word_count.show()\n",
    "#end::more_awesome_wordcount[]"
   ]
  },
  {
   "cell_type": "code",
   "execution_count": null,
   "id": "b9832d81-b884-48e9-86bd-17b0d1dec59b",
   "metadata": {},
   "outputs": [],
   "source": [
    "#tag::even_more_awesome_wordcount[]\n",
    "def extract_text_for_batch(sites):\n",
    "    text_futures = map(lambda s: extract_text.remote(s), sites)\n",
    "    result = ray.get(list(text_futures))\n",
    "    # ray.get returns None on an empty input, but map_batches requires lists\n",
    "    if result is None:\n",
    "        return []\n",
    "    return result\n",
    "\n",
    "def tokenize_batch(texts):\n",
    "    token_futures = map(lambda s: extract_text.remote(s), texts)\n",
    "    result = ray.get(list(token_futures))\n",
    "    if result is None:\n",
    "        return []\n",
    "    # Flatten the result\n",
    "    nr = []\n",
    "    for r in result:\n",
    "        nr.extend(r)\n",
    "    return nr\n",
    "\n",
    "\n",
    "# Exercise to the reader: generalize the above patterns - note the flatten magic difference\n",
    "\n",
    "urls = ray.data.from_items([\"http://www.holdenkarau.com\", \"http://www.google.com\"])\n",
    "\n",
    "pages = urls.map(fetch)\n",
    "# This \n",
    "page_text = pages.map_batches(extract_text_for_batch)\n",
    "words = page_text.map_batches(tokenize_batch)\n",
    "word_count = words.groupby(lambda x: x).count()\n",
    "word_count.show()\n",
    "#tag::even_more_awesome_wordcount[]"
   ]
  },
  {
   "cell_type": "code",
   "execution_count": null,
   "id": "e8aaadfe-e505-458a-bfc0-276a4f039660",
   "metadata": {},
   "outputs": [],
   "source": []
  }
 ],
 "metadata": {
  "kernelspec": {
   "display_name": "Python 3 (ipykernel)",
   "language": "python",
   "name": "python3"
  },
  "language_info": {
   "codemirror_mode": {
    "name": "ipython",
    "version": 3
   },
   "file_extension": ".py",
   "mimetype": "text/x-python",
   "name": "python",
   "nbconvert_exporter": "python",
   "pygments_lexer": "ipython3",
   "version": "3.8.5"
  }
 },
 "nbformat": 4,
 "nbformat_minor": 5
}
