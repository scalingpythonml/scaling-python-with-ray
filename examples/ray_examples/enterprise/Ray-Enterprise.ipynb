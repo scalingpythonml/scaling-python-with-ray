{
 "cells": [
  {
   "cell_type": "code",
   "execution_count": 1,
   "id": "b9102e52-841a-427a-95fc-a92121958fa1",
   "metadata": {},
   "outputs": [
    {
     "name": "stderr",
     "output_type": "stream",
     "text": [
      "2022-05-11 00:19:27,160\tINFO services.py:1456 -- View the Ray dashboard at \u001b[1m\u001b[32mhttp://127.0.0.1:8265\u001b[39m\u001b[22m\n",
      "2022-05-11 00:19:27,191\tWARNING services.py:1983 -- WARNING: The object store is using /tmp instead of /dev/shm because /dev/shm has only 3221225472 bytes available. This will harm performance! You may be able to free up space by deleting files in /dev/shm. If you are inside a Docker container, you can increase /dev/shm size by passing '--shm-size=6.39gb' to 'docker run' (or add it to the run_options list in a Ray cluster config). Make sure to set this to more than 30% of available RAM.\n"
     ]
    },
    {
     "data": {
      "text/plain": [
       "RayContext(dashboard_url='127.0.0.1:8265', python_version='3.8.12', ray_version='2.0.0.dev0', ray_commit='{{RAY_COMMIT_SHA}}', address_info={'node_ip_address': '10.42.3.57', 'raylet_ip_address': '10.42.3.57', 'redis_address': None, 'object_store_address': '/tmp/ray/session_2022-05-11_00-19-17_748490_89/sockets/plasma_store', 'raylet_socket_name': '/tmp/ray/session_2022-05-11_00-19-17_748490_89/sockets/raylet', 'webui_url': '127.0.0.1:8265', 'session_dir': '/tmp/ray/session_2022-05-11_00-19-17_748490_89', 'metrics_export_port': 63488, 'gcs_address': '10.42.3.57:65048', 'address': '10.42.3.57:65048', 'node_id': 'a9041c598135d1dddac0599d9c7753f1ecf18699e2656d126f6ab5b8'})"
      ]
     },
     "execution_count": 1,
     "metadata": {},
     "output_type": "execute_result"
    }
   ],
   "source": [
    "import ray\n",
    "ray.init(num_cpus=4)"
   ]
  },
  {
   "cell_type": "code",
   "execution_count": 14,
   "id": "4ccc45c7-2e82-481b-806c-a1dd2dcd7139",
   "metadata": {},
   "outputs": [],
   "source": [
    "#tag::ray_metrics_singleton[]\n",
    "# Singleton for reporting a Ray metric\n",
    "\n",
    "class FailureCounter(object):\n",
    "    _instance = None\n",
    "\n",
    "    def __new__(cls):\n",
    "        if cls._instance is None:\n",
    "            print('Creating the object')\n",
    "            cls._instance = super(FailureCounter, cls).__new__(cls)\n",
    "            from ray.util.metrics import Counter\n",
    "            cls._instance.counter = Counter(\n",
    "                \"failure\",\n",
    "                description=\"Number of failures (goes up only).\")\n",
    "        return cls._instance\n",
    "\n",
    "# This will fail with every zero because divide by zero\n",
    "@ray.remote\n",
    "def remote_fun(x):\n",
    "    try:\n",
    "        return 10 / x\n",
    "    except:\n",
    "        FailureCounter().counter.inc()\n",
    "        return None\n",
    "#end::ray_metrics_singleton[]"
   ]
  },
  {
   "cell_type": "code",
   "execution_count": 17,
   "id": "76948e56-91d8-4ae5-84c8-6d58b59c39ac",
   "metadata": {},
   "outputs": [],
   "source": [
    "ray.get(remote_fun.remote(0))"
   ]
  },
  {
   "cell_type": "code",
   "execution_count": 32,
   "id": "5578bca4-31c5-4d10-809b-17ca566389bf",
   "metadata": {},
   "outputs": [],
   "source": [
    "#tag::ray_metrics_actor[]\n",
    "# Singleton for reporting a Ray metric\n",
    "\n",
    "@ray.remote\n",
    "class MySpecialActor(object):\n",
    "    def __init__(self, name):\n",
    "        self.total = 0\n",
    "        from ray.util.metrics import Counter, Gauge\n",
    "        self.failed_withdrawls = Counter(\n",
    "            \"failed_withdrawls\", description=\"Number of failed withdrawls.\",\n",
    "            tag_keys=(\"actor_name\",), # Useful if you end up sharding actors\n",
    "        )\n",
    "        self.failed_withdrawls.set_default_tags({\"actor_name\": name})\n",
    "        self.total_guage = Gauge(\n",
    "            \"money\",\n",
    "            description=\"How much money we have in total. Goes up and down.\",\n",
    "            tag_keys=(\"actor_name\",), # Useful if you end up sharding actors\n",
    "        )\n",
    "        self.total_guage.set_default_tags({\"actor_name\": name})\n",
    "        self.accounts = {}\n",
    "\n",
    "    def deposit(self, account, amount):\n",
    "        if account not in self.accounts:\n",
    "            self.accounts[account] = 0\n",
    "        self.accounts[account] += amount\n",
    "        self.total += amount\n",
    "        self.total_guage.set(self.total)\n",
    "        \n",
    "    def withdrawl(self, account, amount):\n",
    "        if account not in self.accounts:\n",
    "            self.failed_withdrawls.inc()\n",
    "            raise Exception(\"No account\")\n",
    "        if self.accounts[account] < amount:\n",
    "            self.failed_withdrawls.inc()\n",
    "            raise Exception(\"Not enough money\")\n",
    "        self.accounts[account] -= amount\n",
    "        self.total -= amount\n",
    "        self.total_guage.set(self.total)\n",
    "#end::ray_metrics_actor[]"
   ]
  },
  {
   "cell_type": "code",
   "execution_count": 33,
   "id": "8f1a593b-21a5-4947-838d-cf09b031c65a",
   "metadata": {},
   "outputs": [],
   "source": [
    "bank1 = MySpecialActor.remote(\"bank1\")"
   ]
  },
  {
   "cell_type": "code",
   "execution_count": 34,
   "id": "ac17b9c3-4d04-41cc-aa7e-a790d2c4dc27",
   "metadata": {},
   "outputs": [],
   "source": [
    "ray.get(bank1.deposit.remote(\"boo\", 5))"
   ]
  },
  {
   "cell_type": "code",
   "execution_count": 35,
   "id": "8f1fa023-fd15-4542-a46c-a75d9449a2eb",
   "metadata": {},
   "outputs": [
    {
     "ename": "RayTaskError",
     "evalue": "\u001b[36mray::MySpecialActor.withdrawl()\u001b[39m (pid=1051, ip=10.42.3.57, repr=<__main__.MySpecialActor object at 0x7fac201400>)\n  File \"/tmp/ipykernel_89/651893236.py\", line 32, in withdrawl\nException: No account",
     "output_type": "error",
     "traceback": [
      "\u001b[0;31m---------------------------------------------------------------------------\u001b[0m",
      "\u001b[0;31mRayTaskError\u001b[0m                              Traceback (most recent call last)",
      "Input \u001b[0;32mIn [35]\u001b[0m, in \u001b[0;36m<cell line: 1>\u001b[0;34m()\u001b[0m\n\u001b[0;32m----> 1\u001b[0m \u001b[43mray\u001b[49m\u001b[38;5;241;43m.\u001b[39;49m\u001b[43mget\u001b[49m\u001b[43m(\u001b[49m\u001b[43mbank1\u001b[49m\u001b[38;5;241;43m.\u001b[39;49m\u001b[43mwithdrawl\u001b[49m\u001b[38;5;241;43m.\u001b[39;49m\u001b[43mremote\u001b[49m\u001b[43m(\u001b[49m\u001b[38;5;124;43m\"\u001b[39;49m\u001b[38;5;124;43mholden\u001b[39;49m\u001b[38;5;124;43m\"\u001b[39;49m\u001b[43m,\u001b[49m\u001b[43m \u001b[49m\u001b[38;5;241;43m5\u001b[39;49m\u001b[43m)\u001b[49m\u001b[43m)\u001b[49m\n",
      "File \u001b[0;32m/opt/conda/lib/python3.8/site-packages/ray/_private/client_mode_hook.py:105\u001b[0m, in \u001b[0;36mclient_mode_hook.<locals>.wrapper\u001b[0;34m(*args, **kwargs)\u001b[0m\n\u001b[1;32m    103\u001b[0m     \u001b[38;5;28;01mif\u001b[39;00m func\u001b[38;5;241m.\u001b[39m\u001b[38;5;18m__name__\u001b[39m \u001b[38;5;241m!=\u001b[39m \u001b[38;5;124m\"\u001b[39m\u001b[38;5;124minit\u001b[39m\u001b[38;5;124m\"\u001b[39m \u001b[38;5;129;01mor\u001b[39;00m is_client_mode_enabled_by_default:\n\u001b[1;32m    104\u001b[0m         \u001b[38;5;28;01mreturn\u001b[39;00m \u001b[38;5;28mgetattr\u001b[39m(ray, func\u001b[38;5;241m.\u001b[39m\u001b[38;5;18m__name__\u001b[39m)(\u001b[38;5;241m*\u001b[39margs, \u001b[38;5;241m*\u001b[39m\u001b[38;5;241m*\u001b[39mkwargs)\n\u001b[0;32m--> 105\u001b[0m \u001b[38;5;28;01mreturn\u001b[39;00m \u001b[43mfunc\u001b[49m\u001b[43m(\u001b[49m\u001b[38;5;241;43m*\u001b[39;49m\u001b[43margs\u001b[49m\u001b[43m,\u001b[49m\u001b[43m \u001b[49m\u001b[38;5;241;43m*\u001b[39;49m\u001b[38;5;241;43m*\u001b[39;49m\u001b[43mkwargs\u001b[49m\u001b[43m)\u001b[49m\n",
      "File \u001b[0;32m/opt/conda/lib/python3.8/site-packages/ray/worker.py:1809\u001b[0m, in \u001b[0;36mget\u001b[0;34m(object_refs, timeout)\u001b[0m\n\u001b[1;32m   1807\u001b[0m     worker\u001b[38;5;241m.\u001b[39mcore_worker\u001b[38;5;241m.\u001b[39mdump_object_store_memory_usage()\n\u001b[1;32m   1808\u001b[0m \u001b[38;5;28;01mif\u001b[39;00m \u001b[38;5;28misinstance\u001b[39m(value, RayTaskError):\n\u001b[0;32m-> 1809\u001b[0m     \u001b[38;5;28;01mraise\u001b[39;00m value\u001b[38;5;241m.\u001b[39mas_instanceof_cause()\n\u001b[1;32m   1810\u001b[0m \u001b[38;5;28;01melse\u001b[39;00m:\n\u001b[1;32m   1811\u001b[0m     \u001b[38;5;28;01mraise\u001b[39;00m value\n",
      "\u001b[0;31mRayTaskError\u001b[0m: \u001b[36mray::MySpecialActor.withdrawl()\u001b[39m (pid=1051, ip=10.42.3.57, repr=<__main__.MySpecialActor object at 0x7fac201400>)\n  File \"/tmp/ipykernel_89/651893236.py\", line 32, in withdrawl\nException: No account"
     ]
    }
   ],
   "source": [
    "ray.get(bank1.withdrawl.remote(\"holden\", 5))"
   ]
  },
  {
   "cell_type": "code",
   "execution_count": 36,
   "id": "8102a685-1472-42f0-b35d-d8da7cef5806",
   "metadata": {},
   "outputs": [],
   "source": [
    "ray.get(bank1.withdrawl.remote(\"boo\", 5))"
   ]
  },
  {
   "cell_type": "code",
   "execution_count": null,
   "id": "c838b6b8-72fa-4026-a3d5-903686c67b2c",
   "metadata": {},
   "outputs": [],
   "source": []
  }
 ],
 "metadata": {
  "kernelspec": {
   "display_name": "Python 3 (ipykernel)",
   "language": "python",
   "name": "python3"
  },
  "language_info": {
   "codemirror_mode": {
    "name": "ipython",
    "version": 3
   },
   "file_extension": ".py",
   "mimetype": "text/x-python",
   "name": "python",
   "nbconvert_exporter": "python",
   "pygments_lexer": "ipython3",
   "version": "3.8.13"
  }
 },
 "nbformat": 4,
 "nbformat_minor": 5
}
